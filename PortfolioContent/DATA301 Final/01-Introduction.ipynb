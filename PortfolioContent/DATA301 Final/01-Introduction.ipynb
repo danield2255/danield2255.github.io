{
 "cells": [
  {
   "cell_type": "markdown",
   "metadata": {},
   "source": [
    "# Abstract"
   ]
  },
  {
   "cell_type": "markdown",
   "metadata": {},
   "source": [
    "   The following investigation explores a contemporary music dataset, aiming to answer the overarching question of \"What factors make music popular?\" This ultimate question can be broken up in to smaller inquiries such as \"What generes of music are most popular?\" and \"What are the most popular song keys and modes?\" among others. The answers to these questions can reveal what elements of music listeners are attracted to in the modern age. "
   ]
  },
  {
   "cell_type": "markdown",
   "metadata": {},
   "source": [
    "# Dataset"
   ]
  },
  {
   "cell_type": "markdown",
   "metadata": {},
   "source": [
    "The dataset I selected was a subset of a million song dataset on contemporary music. The subset is 10,000 observations long and has .... variable columns. The data was on a sample of contemporary music, with variables describing musical parameters of the song as well as some subjective ratings. https://labrosa.ee.columbia.edu/millionsong/pages/field-list contains the column descriptions. https://think.cs.vt.edu/corgis/csv/music/music.html is the source of the data subset. \n",
    "\n",
    "Some of the feature data was collected through an audio analysis program called 'Echo Nest' and this program attempted to quantify subjective elements of music such as dancability and energy. The documentation for the analyzer can be found here: http://docs.echonest.com.s3-website-us-east-1.amazonaws.com/_static/AnalyzeDocumentation.pdf. \n",
    "    "
   ]
  },
  {
   "cell_type": "markdown",
   "metadata": {},
   "source": [
    "# Other Notebooks "
   ]
  },
  {
   "cell_type": "markdown",
   "metadata": {},
   "source": [
    "The data is imported and breifly investigated in 02-Import.ipynb, then cleaned in 03-Tidy.ipynb. The analysis occurs in 04-EDA.ipynb and 05-Modeling.ipynb. The answers to the research question as well as an overall review of the project are in 06-Conclusions.ipynb."
   ]
  },
  {
   "cell_type": "code",
   "execution_count": null,
   "metadata": {},
   "outputs": [],
   "source": []
  }
 ],
 "metadata": {
  "kernelspec": {
   "display_name": "Python 3",
   "language": "python",
   "name": "python3"
  },
  "language_info": {
   "codemirror_mode": {
    "name": "ipython",
    "version": 3
   },
   "file_extension": ".py",
   "mimetype": "text/x-python",
   "name": "python",
   "nbconvert_exporter": "python",
   "pygments_lexer": "ipython3",
   "version": "3.6.3"
  }
 },
 "nbformat": 4,
 "nbformat_minor": 2
}
