{
 "cells": [
  {
   "cell_type": "markdown",
   "metadata": {},
   "source": [
    "# Conclusions"
   ]
  },
  {
   "cell_type": "markdown",
   "metadata": {},
   "source": [
    "The models have revealed that song popularity can be difficult to predict but multiple linear regression seems to do well in comparison to other models. Because it had the greatest R-squared value on the testing data, normally distributed residuals, and consistent R-squared values in cross validation, Model 2, the second linear regression that was run, should be considered the best model predicting the \"song_hotness\" target based off of the feature columns. Aside from the models, the exploratory data analysis reveals that artist popularity, song duration, song mode, and genre all contibute some to the popularity of a song, likely along with the effect of various other predictors. "
   ]
  },
  {
   "cell_type": "markdown",
   "metadata": {},
   "source": [
    "### Limitations"
   ]
  },
  {
   "cell_type": "markdown",
   "metadata": {},
   "source": [
    "Limitations of the analysis include the 0's that needed to be input for the \"song_hotness\" target variable as ultimately this greatly affected the effectiveness of the model. Consequentially to attain the best model, we had to subset to 4214 observations that did not have 0 for \"song_hotness\", and ideally, it would have been better to make conclusions on more observations. If this analysis were to be done again, it would be beneficial to both have a larger sample of contemporary music to work with, and for all of the songs to have been actually popular enough picked up by the program assigning the \"song_hotness\" variable.\n",
    "\n",
    "Also, in the exploratory data analysis, it would have been best for the dataset to have more data from a wide range of genres released over a wider range of time. The reason the data this analysis did not have that may have been because more music gets professionally released as time goes on, or perhaps it was simply an anomaly of the subset. It would have been best to have a larger sample that was more representative of various eras.\n",
    "\n",
    "Finally, there are many more variables which have the potential to determine popularity of contemporary music, but the analysis was limited to the predictors in the dataset. If this were to be done again, there may be more success in observing other factors such as lyrics or musical elements of the songs such as chord structure to predict the popularity of a song. "
   ]
  },
  {
   "cell_type": "markdown",
   "metadata": {},
   "source": [
    "### Potential Next Steps"
   ]
  },
  {
   "cell_type": "markdown",
   "metadata": {},
   "source": [
    "If the analysis were to continue, some backwards elimination could help to really determine the most important features in predicting \"song_hotness\". Ideally we would want to only keep significant variables which explained variation in the model. "
   ]
  }
 ],
 "metadata": {
  "kernelspec": {
   "display_name": "Python 3",
   "language": "python",
   "name": "python3"
  },
  "language_info": {
   "codemirror_mode": {
    "name": "ipython",
    "version": 3
   },
   "file_extension": ".py",
   "mimetype": "text/x-python",
   "name": "python",
   "nbconvert_exporter": "python",
   "pygments_lexer": "ipython3",
   "version": "3.6.3"
  }
 },
 "nbformat": 4,
 "nbformat_minor": 2
}
