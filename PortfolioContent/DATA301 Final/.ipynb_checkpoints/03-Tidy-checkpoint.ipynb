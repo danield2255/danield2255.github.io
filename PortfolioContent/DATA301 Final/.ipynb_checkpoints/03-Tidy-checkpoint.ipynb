{
 "cells": [
  {
   "cell_type": "markdown",
   "metadata": {},
   "source": [
    "# Tidy"
   ]
  },
  {
   "cell_type": "code",
   "execution_count": 1,
   "metadata": {},
   "outputs": [],
   "source": [
    "import pandas as pd \n",
    "import numpy as np"
   ]
  },
  {
   "cell_type": "code",
   "execution_count": 2,
   "metadata": {},
   "outputs": [
    {
     "data": {
      "text/html": [
       "<div>\n",
       "<style scoped>\n",
       "    .dataframe tbody tr th:only-of-type {\n",
       "        vertical-align: middle;\n",
       "    }\n",
       "\n",
       "    .dataframe tbody tr th {\n",
       "        vertical-align: top;\n",
       "    }\n",
       "\n",
       "    .dataframe thead th {\n",
       "        text-align: right;\n",
       "    }\n",
       "</style>\n",
       "<table border=\"1\" class=\"dataframe\">\n",
       "  <thead>\n",
       "    <tr style=\"text-align: right;\">\n",
       "      <th></th>\n",
       "      <th>artist.hotttnesss</th>\n",
       "      <th>artist.id</th>\n",
       "      <th>artist.name</th>\n",
       "      <th>artist_mbtags</th>\n",
       "      <th>artist_mbtags_count</th>\n",
       "      <th>bars_confidence</th>\n",
       "      <th>bars_start</th>\n",
       "      <th>beats_confidence</th>\n",
       "      <th>beats_start</th>\n",
       "      <th>duration</th>\n",
       "      <th>...</th>\n",
       "      <th>start_of_fade_out</th>\n",
       "      <th>tatums_confidence</th>\n",
       "      <th>tatums_start</th>\n",
       "      <th>tempo</th>\n",
       "      <th>terms</th>\n",
       "      <th>terms_freq</th>\n",
       "      <th>time_signature</th>\n",
       "      <th>time_signature_confidence</th>\n",
       "      <th>title</th>\n",
       "      <th>year</th>\n",
       "    </tr>\n",
       "  </thead>\n",
       "  <tbody>\n",
       "    <tr>\n",
       "      <th>0</th>\n",
       "      <td>0.401998</td>\n",
       "      <td>ARD7TVE1187B99BFB1</td>\n",
       "      <td>Casual</td>\n",
       "      <td>NaN</td>\n",
       "      <td>0.0</td>\n",
       "      <td>0.643</td>\n",
       "      <td>0.58521</td>\n",
       "      <td>0.834</td>\n",
       "      <td>0.58521</td>\n",
       "      <td>218.93179</td>\n",
       "      <td>...</td>\n",
       "      <td>218.932</td>\n",
       "      <td>0.779</td>\n",
       "      <td>0.28519</td>\n",
       "      <td>92.198</td>\n",
       "      <td>hip hop</td>\n",
       "      <td>1.000000</td>\n",
       "      <td>4.0</td>\n",
       "      <td>0.778</td>\n",
       "      <td>I Didn't Mean To</td>\n",
       "      <td>0</td>\n",
       "    </tr>\n",
       "    <tr>\n",
       "      <th>1</th>\n",
       "      <td>0.417500</td>\n",
       "      <td>ARMJAGH1187FB546F3</td>\n",
       "      <td>The Box Tops</td>\n",
       "      <td>classic pop and rock</td>\n",
       "      <td>1.0</td>\n",
       "      <td>0.007</td>\n",
       "      <td>0.71054</td>\n",
       "      <td>1.000</td>\n",
       "      <td>0.20627</td>\n",
       "      <td>148.03546</td>\n",
       "      <td>...</td>\n",
       "      <td>137.915</td>\n",
       "      <td>0.969</td>\n",
       "      <td>0.20627</td>\n",
       "      <td>121.274</td>\n",
       "      <td>blue-eyed soul</td>\n",
       "      <td>1.000000</td>\n",
       "      <td>4.0</td>\n",
       "      <td>0.384</td>\n",
       "      <td>Soul Deep</td>\n",
       "      <td>1969</td>\n",
       "    </tr>\n",
       "    <tr>\n",
       "      <th>2</th>\n",
       "      <td>0.343428</td>\n",
       "      <td>ARKRRTF1187B9984DA</td>\n",
       "      <td>Sonora Santanera</td>\n",
       "      <td>NaN</td>\n",
       "      <td>0.0</td>\n",
       "      <td>0.980</td>\n",
       "      <td>0.73152</td>\n",
       "      <td>0.980</td>\n",
       "      <td>0.73152</td>\n",
       "      <td>177.47546</td>\n",
       "      <td>...</td>\n",
       "      <td>172.304</td>\n",
       "      <td>0.482</td>\n",
       "      <td>0.42132</td>\n",
       "      <td>100.070</td>\n",
       "      <td>salsa</td>\n",
       "      <td>1.000000</td>\n",
       "      <td>1.0</td>\n",
       "      <td>0.000</td>\n",
       "      <td>Amor De Cabaret</td>\n",
       "      <td>0</td>\n",
       "    </tr>\n",
       "    <tr>\n",
       "      <th>3</th>\n",
       "      <td>0.454231</td>\n",
       "      <td>AR7G5I41187FB4CE6C</td>\n",
       "      <td>Adam Ant</td>\n",
       "      <td>uk</td>\n",
       "      <td>1.0</td>\n",
       "      <td>0.017</td>\n",
       "      <td>1.30621</td>\n",
       "      <td>0.809</td>\n",
       "      <td>0.81002</td>\n",
       "      <td>233.40363</td>\n",
       "      <td>...</td>\n",
       "      <td>217.124</td>\n",
       "      <td>0.601</td>\n",
       "      <td>0.56254</td>\n",
       "      <td>119.293</td>\n",
       "      <td>pop rock</td>\n",
       "      <td>0.988584</td>\n",
       "      <td>4.0</td>\n",
       "      <td>0.000</td>\n",
       "      <td>Something Girls</td>\n",
       "      <td>1982</td>\n",
       "    </tr>\n",
       "    <tr>\n",
       "      <th>4</th>\n",
       "      <td>0.401724</td>\n",
       "      <td>ARXR32B1187FB57099</td>\n",
       "      <td>Gob</td>\n",
       "      <td>NaN</td>\n",
       "      <td>0.0</td>\n",
       "      <td>0.175</td>\n",
       "      <td>1.06368</td>\n",
       "      <td>0.883</td>\n",
       "      <td>0.13576</td>\n",
       "      <td>209.60608</td>\n",
       "      <td>...</td>\n",
       "      <td>198.699</td>\n",
       "      <td>1.000</td>\n",
       "      <td>0.13576</td>\n",
       "      <td>129.738</td>\n",
       "      <td>pop punk</td>\n",
       "      <td>0.887288</td>\n",
       "      <td>4.0</td>\n",
       "      <td>0.562</td>\n",
       "      <td>Face the Ashes</td>\n",
       "      <td>2007</td>\n",
       "    </tr>\n",
       "  </tbody>\n",
       "</table>\n",
       "<p>5 rows × 35 columns</p>\n",
       "</div>"
      ],
      "text/plain": [
       "   artist.hotttnesss           artist.id       artist.name  \\\n",
       "0           0.401998  ARD7TVE1187B99BFB1            Casual   \n",
       "1           0.417500  ARMJAGH1187FB546F3      The Box Tops   \n",
       "2           0.343428  ARKRRTF1187B9984DA  Sonora Santanera   \n",
       "3           0.454231  AR7G5I41187FB4CE6C          Adam Ant   \n",
       "4           0.401724  ARXR32B1187FB57099               Gob   \n",
       "\n",
       "          artist_mbtags  artist_mbtags_count  bars_confidence  bars_start  \\\n",
       "0                   NaN                  0.0            0.643     0.58521   \n",
       "1  classic pop and rock                  1.0            0.007     0.71054   \n",
       "2                   NaN                  0.0            0.980     0.73152   \n",
       "3                    uk                  1.0            0.017     1.30621   \n",
       "4                   NaN                  0.0            0.175     1.06368   \n",
       "\n",
       "   beats_confidence  beats_start   duration  ...   start_of_fade_out  \\\n",
       "0             0.834      0.58521  218.93179  ...             218.932   \n",
       "1             1.000      0.20627  148.03546  ...             137.915   \n",
       "2             0.980      0.73152  177.47546  ...             172.304   \n",
       "3             0.809      0.81002  233.40363  ...             217.124   \n",
       "4             0.883      0.13576  209.60608  ...             198.699   \n",
       "\n",
       "   tatums_confidence  tatums_start    tempo           terms terms_freq  \\\n",
       "0              0.779       0.28519   92.198         hip hop   1.000000   \n",
       "1              0.969       0.20627  121.274  blue-eyed soul   1.000000   \n",
       "2              0.482       0.42132  100.070           salsa   1.000000   \n",
       "3              0.601       0.56254  119.293        pop rock   0.988584   \n",
       "4              1.000       0.13576  129.738        pop punk   0.887288   \n",
       "\n",
       "   time_signature  time_signature_confidence             title  year  \n",
       "0             4.0                      0.778  I Didn't Mean To     0  \n",
       "1             4.0                      0.384         Soul Deep  1969  \n",
       "2             1.0                      0.000   Amor De Cabaret     0  \n",
       "3             4.0                      0.000   Something Girls  1982  \n",
       "4             4.0                      0.562    Face the Ashes  2007  \n",
       "\n",
       "[5 rows x 35 columns]"
      ]
     },
     "execution_count": 2,
     "metadata": {},
     "output_type": "execute_result"
    }
   ],
   "source": [
    "data = pd.read_csv('/data/danield2255/music.csv')\n",
    "data.head()"
   ]
  },
  {
   "cell_type": "markdown",
   "metadata": {},
   "source": [
    "# Drop Extraneous Columns\n",
    "The latitude and longitude columns were not needed since there was a categorical artist location variable. We also drop similar because it is a recomendation of similar artists, and is not in relation to the actual song observations. Plus, we dropped tatums_confidence and tatums_start columns because we will analyze beats in the beat related variables, and do not need to worry about tatums. Finally we delete the artist_mbtags and artist_mbtags_count because we will use the hotness levels as a measure of popularity. "
   ]
  },
  {
   "cell_type": "code",
   "execution_count": 3,
   "metadata": {},
   "outputs": [],
   "source": [
    "data = data.drop(columns = ['latitude', 'longitude', 'similar', 'tatums_confidence', 'tatums_start', 'artist_mbtags', 'artist_mbtags_count'])"
   ]
  },
  {
   "cell_type": "markdown",
   "metadata": {},
   "source": [
    "# Appropriate Categorical Values"
   ]
  },
  {
   "cell_type": "markdown",
   "metadata": {},
   "source": [
    "The Echonest software encoded the song keys, modes, and time signatures using integers, but because they will be used as categories in the analysis they were put back into more appropriate terms for observation. "
   ]
  },
  {
   "cell_type": "code",
   "execution_count": 4,
   "metadata": {},
   "outputs": [],
   "source": [
    "new_vals = {'mode': {0: \"Minor\", 1: \"Major\", -1: np.nan}, \n",
    "            'key': {0: \"C\", 1: \"C#\", 2: \"D\", 3: \"D#\", 4: \"E\", 5: \"F\", 6: \"F#\", 7: \"G\", 8: \"G#\", 9: \"A\", 10: \"A#\", 11: \"B\"},\n",
    "           'time_signature': {-1: np.nan, 1: \"Complex or Changing\", 4: \"4/4\", 5: \"5/4\", 6: \"6/4\", 7: \"7/4\"}}\n",
    "data.replace(new_vals, inplace= True)"
   ]
  },
  {
   "cell_type": "markdown",
   "metadata": {},
   "source": [
    "## Missing Values"
   ]
  },
  {
   "cell_type": "code",
   "execution_count": 5,
   "metadata": {},
   "outputs": [
    {
     "data": {
      "text/plain": [
       "4351"
      ]
     },
     "execution_count": 5,
     "metadata": {},
     "output_type": "execute_result"
    }
   ],
   "source": [
    "null_data = len(data[data['song.hotttnesss'].isnull()])\n",
    "null_data"
   ]
  },
  {
   "cell_type": "code",
   "execution_count": 6,
   "metadata": {},
   "outputs": [],
   "source": [
    "data['year'] = data['year'].replace(0, np.nan)\n",
    "data['artist.id'] = data['artist.id'].replace(-1, np.nan)\n",
    "data['release.id'] = data['release.id'].replace(-1, np.nan)\n",
    "data['location']= data['location'].replace('Not available', np.nan)"
   ]
  },
  {
   "cell_type": "code",
   "execution_count": 7,
   "metadata": {},
   "outputs": [],
   "source": [
    "data['familiarity'] = data['familiarity'].fillna((data['familiarity'].mean(skipna = True)))\n",
    "data['song.hotttnesss']=data['song.hotttnesss'].fillna(0)"
   ]
  },
  {
   "cell_type": "markdown",
   "metadata": {},
   "source": [
    "Here we needed to adjust the familiarity value because there were missing values and it was a quantitative variable. I set missing values of song hotness to 0 because they were songs not popular enough to be measured by the scaling program and there were so many values missing that using the average would likely not have been appropriately represenative. "
   ]
  },
  {
   "cell_type": "code",
   "execution_count": 8,
   "metadata": {},
   "outputs": [],
   "source": [
    "assert len(data[data['artist.hotttnesss'].isnull()]) == 0\n",
    "assert len(data[data['bars_confidence'].isnull()]) == 0\n",
    "assert len(data[data['bars_start'].isnull()]) ==0\n",
    "assert len(data[data['beats_confidence'].isnull()]) ==0\n",
    "assert len(data[data['beats_start'].isnull()]) ==0\n",
    "assert len(data[data['duration'].isnull()]) ==0\n",
    "assert len(data[data['end_of_fade_in'].isnull()]) ==0\n",
    "assert len(data[data['familiarity'].isnull()]) ==0\n",
    "assert len(data[data['key_confidence'].isnull()]) ==0\n",
    "assert len(data[data['loudness'].isnull()]) ==0\n",
    "assert len(data[data['mode_confidence'].isnull()]) ==0\n",
    "assert len(data[data['song.hotttnesss'].isnull()]) ==0\n",
    "assert len(data[data['start_of_fade_out'].isnull()]) ==0\n",
    "assert len(data[data['tempo'].isnull()]) ==0\n",
    "assert len(data[data['terms_freq'].isnull()]) ==0\n",
    "assert len(data[data['time_signature_confidence'].isnull()]) ==0\n"
   ]
  },
  {
   "cell_type": "markdown",
   "metadata": {},
   "source": [
    "# Rename Columns\n",
    "Here I renamed some of the columns that were not very clear as to what variable was being described. The general format is that if there is a period in the variable name, the variable is refrencing what is before the period. Example : 'artist.hotness' is a hotness popularity rating of an artist, not the song that is the row observation. "
   ]
  },
  {
   "cell_type": "code",
   "execution_count": 9,
   "metadata": {},
   "outputs": [],
   "source": [
    "data = data.rename(columns = {'artist.id': 'artist_id', 'artist.name': 'artist_name', 'artist.hotttnesss': 'artist_hotness', 'familiarity':'artist_familiarity', 'location': 'artist_location', 'terms': 'genre', 'release.id': 'release_id', 'release.name': 'release_name', 'song.id': 'song_id', 'terms_freq': 'artist_genre_freq', 'song.hotttnesss': 'song_hotness', 'terms_weight': 'artist_terms_weight', 'year': 'release_year', 'title':'song_title'})"
   ]
  },
  {
   "cell_type": "markdown",
   "metadata": {},
   "source": [
    "## Checking Type Continuity\n",
    "First I had to change some float values to integers for discrete quantitative variables.\n",
    "After this, the following tests ensure that the data types are what we expect, and are the same through each column. "
   ]
  },
  {
   "cell_type": "code",
   "execution_count": 10,
   "metadata": {},
   "outputs": [],
   "source": [
    "data['key'] = data['key'].astype('object')\n",
    "data['mode'] = data['mode'].astype('object')\n",
    "data['release_id'] = data['release_id'].astype('int')\n",
    "data['time_signature'] = data['time_signature'].astype('object')\n",
    "data['release_year'] = data['release_year'].astype('object')"
   ]
  },
  {
   "cell_type": "code",
   "execution_count": 11,
   "metadata": {},
   "outputs": [],
   "source": [
    "assert np.dtype(data['artist_hotness']) == 'float'\n",
    "assert np.dtype(data['artist_id']) == 'object'\n",
    "assert np.dtype(data['artist_name']) == 'object'\n",
    "assert np.dtype(data['bars_confidence']) == 'float'\n",
    "assert np.dtype(data['bars_start']) == 'float'\n",
    "assert np.dtype(data['beats_confidence']) == 'float'\n",
    "assert np.dtype(data['beats_start']) == 'float'\n",
    "assert np.dtype(data['duration']) == 'float'\n",
    "assert np.dtype(data['end_of_fade_in']) == 'float'\n",
    "assert np.dtype(data['artist_familiarity']) == 'float'\n",
    "assert np.dtype(data['key']) == 'object'\n",
    "assert np.dtype(data['key_confidence']) == 'float'\n",
    "assert np.dtype(data['artist_location']) == 'object'\n",
    "assert np.dtype(data['loudness']) == 'float'\n",
    "assert np.dtype(data['mode']) == 'object'\n",
    "assert np.dtype(data['mode_confidence']) == 'float'\n",
    "assert np.dtype(data['release_id']) == 'int'\n",
    "assert np.dtype(data['release_name']) == 'object'\n",
    "assert np.dtype(data['song_hotness']) == 'float'\n",
    "assert np.dtype(data['song_id']) == 'object'\n",
    "assert np.dtype(data['start_of_fade_out']) == 'float'\n",
    "assert np.dtype(data['tempo']) == 'float'\n",
    "assert np.dtype(data['genre']) == 'object'\n",
    "assert np.dtype(data['artist_genre_freq']) == 'float'\n",
    "assert np.dtype(data['time_signature']) == 'object'\n",
    "assert np.dtype(data['time_signature_confidence']) == 'float'\n",
    "assert np.dtype(data['song_title']) == 'object'\n",
    "assert np.dtype(data['release_year']) == 'object'\n"
   ]
  },
  {
   "cell_type": "markdown",
   "metadata": {},
   "source": [
    "# One to One Relationships\n",
    "Here there are no one to one relationships as the only thing unique to each song is the song.id. Every other feature is able to potentially applied to multiple observations."
   ]
  },
  {
   "cell_type": "code",
   "execution_count": 12,
   "metadata": {},
   "outputs": [],
   "source": [
    "assert len(data['song_id'].unique()) == 10000"
   ]
  },
  {
   "cell_type": "code",
   "execution_count": 13,
   "metadata": {},
   "outputs": [
    {
     "data": {
      "text/plain": [
       "count                  10000\n",
       "unique                 10000\n",
       "top       SOIMREK12A58A792CD\n",
       "freq                       1\n",
       "Name: song_id, dtype: object"
      ]
     },
     "execution_count": 13,
     "metadata": {},
     "output_type": "execute_result"
    }
   ],
   "source": [
    "data['song_id'].describe(include = 'all')"
   ]
  },
  {
   "cell_type": "markdown",
   "metadata": {},
   "source": [
    "# One to Many Relationships"
   ]
  },
  {
   "cell_type": "markdown",
   "metadata": {},
   "source": [
    "In this data, since there were so many columns to consider, there were a great number of one to many relationships. The following subsets are a few of these one to many relationships which will be used to answer questions of interest. \n"
   ]
  },
  {
   "cell_type": "code",
   "execution_count": 14,
   "metadata": {},
   "outputs": [],
   "source": [
    "song_popularity =data[['song_id', 'song_hotness']]\n",
    "song_year = data[['song_id', 'release_year']]\n",
    "song_genres = data[['song_id', 'genre']]\n",
    "song_tempo = data[['song_id', 'tempo']]\n",
    "song_key = data[['song_id', 'key']]\n",
    "song_mode = data[['song_id', 'mode']]\n",
    "song_length = data[['song_id', 'duration']]"
   ]
  },
  {
   "cell_type": "markdown",
   "metadata": {},
   "source": [
    "# Many to Many Relationships"
   ]
  },
  {
   "cell_type": "markdown",
   "metadata": {},
   "source": [
    "In the music dataset, there are repeats for genre across observations, and the other features also have repeat values. This can create a many to many relationship which can be useful in predicting relationships between features."
   ]
  },
  {
   "cell_type": "code",
   "execution_count": 15,
   "metadata": {},
   "outputs": [],
   "source": [
    "genre_loudness = data[['genre', 'loudness']]\n",
    "genre_mode = data[['genre', 'mode']]\n",
    "songpop_artistpop = data[['song_hotness', 'artist_hotness']]"
   ]
  },
  {
   "cell_type": "markdown",
   "metadata": {},
   "source": [
    "# Save Final Sets"
   ]
  },
  {
   "cell_type": "code",
   "execution_count": 16,
   "metadata": {},
   "outputs": [],
   "source": [
    "data.to_json('/data/danield2255/tidy_music.json', orient = 'records')\n",
    "song_popularity.to_json('/data/danield2255/song_popularity.json', orient = 'records')\n",
    "song_year.to_json('/data/danield2255/song_year.json', orient = 'records')\n",
    "song_genres.to_json('/data/danield2255/song_genres.json', orient = 'records')\n",
    "song_tempo.to_json('/data/danield2255/song_tempo.json', orient = 'records')\n",
    "song_key.to_json('/data/danield2255/song_key.json', orient = 'records')\n",
    "song_mode.to_json('/data/danield2255/song_mode.json', orient = 'records')\n",
    "song_length.to_json('/data/danield2255/song_length.json', orient = 'records')\n",
    "genre_loudness.to_json('/data/danield2255/genre_loudness.json', orient = 'records')\n",
    "genre_mode.to_json('/data/danield2255/genre_mode.json', orient = 'records')\n",
    "songpop_artistpop.to_json('/data/danield2255/songpop_artistpop.json', orient = 'records')"
   ]
  }
 ],
 "metadata": {
  "kernelspec": {
   "display_name": "Python 3",
   "language": "python",
   "name": "python3"
  },
  "language_info": {
   "codemirror_mode": {
    "name": "ipython",
    "version": 3
   },
   "file_extension": ".py",
   "mimetype": "text/x-python",
   "name": "python",
   "nbconvert_exporter": "python",
   "pygments_lexer": "ipython3",
   "version": "3.7.1"
  }
 },
 "nbformat": 4,
 "nbformat_minor": 2
}
