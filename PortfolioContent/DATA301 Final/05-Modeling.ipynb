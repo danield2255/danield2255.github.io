{
 "cells": [
  {
   "cell_type": "markdown",
   "metadata": {},
   "source": [
    "# Modeling"
   ]
  },
  {
   "cell_type": "code",
   "execution_count": 1,
   "metadata": {},
   "outputs": [
    {
     "name": "stderr",
     "output_type": "stream",
     "text": [
      "/opt/conda/lib/python3.6/site-packages/sklearn/cross_validation.py:41: DeprecationWarning: This module was deprecated in version 0.18 in favor of the model_selection module into which all the refactored classes and functions are moved. Also note that the interface of the new CV iterators are different from that of this module. This module will be removed in 0.20.\n",
      "  \"This module will be removed in 0.20.\", DeprecationWarning)\n"
     ]
    }
   ],
   "source": [
    "import pandas as pd\n",
    "import numpy as np\n",
    "%matplotlib inline\n",
    "import matplotlib.pyplot as plt\n",
    "import altair as alt\n",
    "from sklearn.linear_model import LinearRegression\n",
    "from sklearn.preprocessing import PolynomialFeatures\n",
    "from sklearn.svm import SVR\n",
    "from sklearn.cross_validation import train_test_split\n",
    "from sklearn.feature_extraction import DictVectorizer\n",
    "from sklearn.model_selection import cross_val_score"
   ]
  },
  {
   "cell_type": "code",
   "execution_count": 2,
   "metadata": {},
   "outputs": [],
   "source": [
    "df = pd.read_json('/data/danield2255/tidy_music.json')\n",
    "song_popularity = pd.read_json('/data/danield2255/song_popularity.json')\n",
    "song_year = pd.read_json('/data/danield2255/song_year.json')\n",
    "song_genres = pd.read_json('/data/danield2255/song_genres.json')\n",
    "song_tempo = pd.read_json('/data/danield2255/song_tempo.json')\n",
    "song_mode = pd.read_json('/data/danield2255/song_mode.json')\n",
    "song_key = pd.read_json('/data/danield2255/song_key.json')\n",
    "song_length = pd.read_json('/data/danield2255/song_length.json')\n",
    "genre_loudness = pd.read_json('/data/danield2255/genre_loudness.json')\n",
    "genre_mode = pd.read_json('/data/danield2255/genre_mode.json')\n",
    "songpop_artistpop = pd.read_json('/data/danield2255/songpop_artistpop.json')"
   ]
  },
  {
   "cell_type": "markdown",
   "metadata": {},
   "source": [
    "### Statistical Estimators and Bootstrap Resampling"
   ]
  },
  {
   "cell_type": "code",
   "execution_count": 3,
   "metadata": {},
   "outputs": [],
   "source": [
    "def bootstrap_songhotness_means(n):\n",
    "    #Operation: To compute bootstrap means of song.hotness\n",
    "    #Parameters: n = int (Number of bootstrap means to calculate)\n",
    "    #Returns: means = array (An n element array of the values of the function applied to the resampled data.)\n",
    "    np.random.seed(10)\n",
    "    means = np.empty(n, dtype=float)\n",
    "    for i in range(n):\n",
    "        boots = np.random.choice(df['song_hotness'], size=df['song_hotness'].shape[0])\n",
    "        means[i] = np.mean(boots)\n",
    "    return means"
   ]
  },
  {
   "cell_type": "markdown",
   "metadata": {},
   "source": [
    "In the music dataset, in refrence to answering the question \"What makes music popular?\" the target variable is 'song_hotness', which is the dataset's measure of song popularity. "
   ]
  },
  {
   "cell_type": "code",
   "execution_count": 4,
   "metadata": {},
   "outputs": [
    {
     "data": {
      "text/plain": [
       "0.193625696468"
      ]
     },
     "execution_count": 4,
     "metadata": {},
     "output_type": "execute_result"
    }
   ],
   "source": [
    "np.mean(df['song_hotness'])"
   ]
  },
  {
   "cell_type": "markdown",
   "metadata": {},
   "source": [
    "The mean of the sample data's 'song_hotness' coulumn is 0.1936. "
   ]
  },
  {
   "cell_type": "code",
   "execution_count": 5,
   "metadata": {},
   "outputs": [
    {
     "data": {
      "text/plain": [
       "0.19367291252988642"
      ]
     },
     "execution_count": 5,
     "metadata": {},
     "output_type": "execute_result"
    }
   ],
   "source": [
    "bootstrapped_means = bootstrap_songhotness_means(500)\n",
    "np.mean(bootstrapped_means)"
   ]
  },
  {
   "cell_type": "markdown",
   "metadata": {},
   "source": [
    "The mean of the the set of 500 bootstrapped means from 'song.hotness' was 0.1937. This is not a \"better\" estimate for the mean, but it is nice to see that they are very very similar."
   ]
  },
  {
   "cell_type": "code",
   "execution_count": 6,
   "metadata": {},
   "outputs": [
    {
     "data": {
      "application/vnd.vegalite.v2+json": {
       "$schema": "https://vega.github.io/schema/vega-lite/v2.json",
       "config": {
        "view": {
         "height": 300,
         "width": 400
        }
       },
       "data": {
        "values": [
         {
          "boots": 0.18915733278780003
         },
         {
          "boots": 0.19687561601960002
         },
         {
          "boots": 0.19165186357550001
         },
         {
          "boots": 0.19446043572600002
         },
         {
          "boots": 0.19616670437500003
         },
         {
          "boots": 0.1920116456442
         },
         {
          "boots": 0.1910700581791
         },
         {
          "boots": 0.19782290678450004
         },
         {
          "boots": 0.18728396920150003
         },
         {
          "boots": 0.1892949860135
         },
         {
          "boots": 0.1921944462017
         },
         {
          "boots": 0.194048231746
         },
         {
          "boots": 0.18985805830250002
         },
         {
          "boots": 0.19462601042930003
         },
         {
          "boots": 0.1934366655147
         },
         {
          "boots": 0.18907716870770003
         },
         {
          "boots": 0.1851631444513
         },
         {
          "boots": 0.192123609941
         },
         {
          "boots": 0.1923391361791
         },
         {
          "boots": 0.1914379657023
         },
         {
          "boots": 0.1956551017486
         },
         {
          "boots": 0.19852069274380002
         },
         {
          "boots": 0.1899409386213
         },
         {
          "boots": 0.19463999717140001
         },
         {
          "boots": 0.19683632436610002
         },
         {
          "boots": 0.1881334308554
         },
         {
          "boots": 0.19676441823619997
         },
         {
          "boots": 0.1906297875794
         },
         {
          "boots": 0.19075753707200002
         },
         {
          "boots": 0.19627464404870001
         },
         {
          "boots": 0.19197914289050005
         },
         {
          "boots": 0.1948163417028
         },
         {
          "boots": 0.19522765458070002
         },
         {
          "boots": 0.1930863182696
         },
         {
          "boots": 0.1952338701639
         },
         {
          "boots": 0.1974611273812
         },
         {
          "boots": 0.1898835614515
         },
         {
          "boots": 0.1960624001572
         },
         {
          "boots": 0.1893867075821
         },
         {
          "boots": 0.1936373245768
         },
         {
          "boots": 0.1945311823687
         },
         {
          "boots": 0.1970764299054
         },
         {
          "boots": 0.1960006053903
         },
         {
          "boots": 0.1947123221856
         },
         {
          "boots": 0.190286000964
         },
         {
          "boots": 0.1957061926194
         },
         {
          "boots": 0.195902639681
         },
         {
          "boots": 0.1937913838716
         },
         {
          "boots": 0.19224990384460003
         },
         {
          "boots": 0.19167989250470002
         },
         {
          "boots": 0.18823573297650004
         },
         {
          "boots": 0.19477128974779997
         },
         {
          "boots": 0.1978237789948
         },
         {
          "boots": 0.1974068611295
         },
         {
          "boots": 0.19765956292
         },
         {
          "boots": 0.1913403865752
         },
         {
          "boots": 0.1930434580826
         },
         {
          "boots": 0.19567911294550003
         },
         {
          "boots": 0.1950855294246
         },
         {
          "boots": 0.1898030944545
         },
         {
          "boots": 0.19346612118950002
         },
         {
          "boots": 0.19172481750650003
         },
         {
          "boots": 0.19328688511830003
         },
         {
          "boots": 0.19385139475360003
         },
         {
          "boots": 0.1965447139095
         },
         {
          "boots": 0.19124153392780002
         },
         {
          "boots": 0.18944103172340002
         },
         {
          "boots": 0.1948858435574
         },
         {
          "boots": 0.19146159873800003
         },
         {
          "boots": 0.19191933820100002
         },
         {
          "boots": 0.1977298495973
         },
         {
          "boots": 0.1934033813062
         },
         {
          "boots": 0.1969652358059
         },
         {
          "boots": 0.19339165415540002
         },
         {
          "boots": 0.19262131059440002
         },
         {
          "boots": 0.194065930477
         },
         {
          "boots": 0.19407012098930002
         },
         {
          "boots": 0.1936520504425
         },
         {
          "boots": 0.1942100007211
         },
         {
          "boots": 0.19111887081470003
         },
         {
          "boots": 0.1930080690625
         },
         {
          "boots": 0.1935157602405
         },
         {
          "boots": 0.188645212732
         },
         {
          "boots": 0.19450698972920002
         },
         {
          "boots": 0.19555441647860003
         },
         {
          "boots": 0.19332479842109998
         },
         {
          "boots": 0.1922741085145
         },
         {
          "boots": 0.1964521638119
         },
         {
          "boots": 0.1907742975141
         },
         {
          "boots": 0.1936481237473
         },
         {
          "boots": 0.19237691150750005
         },
         {
          "boots": 0.19042527105920004
         },
         {
          "boots": 0.19344170136800004
         },
         {
          "boots": 0.19237916844400002
         },
         {
          "boots": 0.1939866233976
         },
         {
          "boots": 0.19573011156010003
         },
         {
          "boots": 0.19361854276979998
         },
         {
          "boots": 0.19590310407689998
         },
         {
          "boots": 0.1939598459369
         },
         {
          "boots": 0.19162653012220002
         },
         {
          "boots": 0.1999102697449
         },
         {
          "boots": 0.1908060295892
         },
         {
          "boots": 0.1934809497874
         },
         {
          "boots": 0.19211607028840003
         },
         {
          "boots": 0.1924573494303
         },
         {
          "boots": 0.19302174878030004
         },
         {
          "boots": 0.1929390819416
         },
         {
          "boots": 0.19512568384580004
         },
         {
          "boots": 0.19311166661610002
         },
         {
          "boots": 0.19412847533230002
         },
         {
          "boots": 0.19069593698210002
         },
         {
          "boots": 0.19601296800640003
         },
         {
          "boots": 0.1962335913112
         },
         {
          "boots": 0.1916212648212
         },
         {
          "boots": 0.1902727273728
         },
         {
          "boots": 0.1914619256714
         },
         {
          "boots": 0.18910098302500003
         },
         {
          "boots": 0.19471485981849998
         },
         {
          "boots": 0.19310043152120002
         },
         {
          "boots": 0.19662152055980003
         },
         {
          "boots": 0.1928445187616
         },
         {
          "boots": 0.19476879980290002
         },
         {
          "boots": 0.1962197080213
         },
         {
          "boots": 0.197990608677
         },
         {
          "boots": 0.1979591562165
         },
         {
          "boots": 0.19321064117930004
         },
         {
          "boots": 0.19101417476910001
         },
         {
          "boots": 0.1983466181936
         },
         {
          "boots": 0.19281975364700002
         },
         {
          "boots": 0.1998094992536
         },
         {
          "boots": 0.1954177692866
         },
         {
          "boots": 0.1959458319472
         },
         {
          "boots": 0.1933983387237
         },
         {
          "boots": 0.19240741858440003
         },
         {
          "boots": 0.19008361159100004
         },
         {
          "boots": 0.18897991650120002
         },
         {
          "boots": 0.19243007385660002
         },
         {
          "boots": 0.19487621456440002
         },
         {
          "boots": 0.19195101086040003
         },
         {
          "boots": 0.1958048939145
         },
         {
          "boots": 0.1927453752262
         },
         {
          "boots": 0.1918473838355
         },
         {
          "boots": 0.1959821523868
         },
         {
          "boots": 0.1916241138778
         },
         {
          "boots": 0.1958111331495
         },
         {
          "boots": 0.1968434730095
         },
         {
          "boots": 0.1920239123023
         },
         {
          "boots": 0.1942368343438
         },
         {
          "boots": 0.19407811679370002
         },
         {
          "boots": 0.1933177670975
         },
         {
          "boots": 0.19249597593480003
         },
         {
          "boots": 0.1949900854463
         },
         {
          "boots": 0.19866731819000003
         },
         {
          "boots": 0.19201461690580002
         },
         {
          "boots": 0.1943044906505
         },
         {
          "boots": 0.1948717443272
         },
         {
          "boots": 0.201263391515
         },
         {
          "boots": 0.19466046492880001
         },
         {
          "boots": 0.1956973661832
         },
         {
          "boots": 0.19541362268660004
         },
         {
          "boots": 0.1965338710612
         },
         {
          "boots": 0.1946361783454
         },
         {
          "boots": 0.1973495251482
         },
         {
          "boots": 0.19427982567970004
         },
         {
          "boots": 0.19411371019930002
         },
         {
          "boots": 0.1923413102479
         },
         {
          "boots": 0.19263956678650002
         },
         {
          "boots": 0.1908970291239
         },
         {
          "boots": 0.19584381380760002
         },
         {
          "boots": 0.19358353620819999
         },
         {
          "boots": 0.1970684781378
         },
         {
          "boots": 0.19324688752340002
         },
         {
          "boots": 0.1976134242019
         },
         {
          "boots": 0.1947861547701
         },
         {
          "boots": 0.19067565330020003
         },
         {
          "boots": 0.1960235334609
         },
         {
          "boots": 0.19192641409080002
         },
         {
          "boots": 0.1924734263847
         },
         {
          "boots": 0.19282494447520002
         },
         {
          "boots": 0.1956606841045
         },
         {
          "boots": 0.19337598812570003
         },
         {
          "boots": 0.19522513666730001
         },
         {
          "boots": 0.18893902457050002
         },
         {
          "boots": 0.1923098944647
         },
         {
          "boots": 0.1936292243728
         },
         {
          "boots": 0.192800466878
         },
         {
          "boots": 0.1927359155307
         },
         {
          "boots": 0.19487313529990002
         },
         {
          "boots": 0.193496157066
         },
         {
          "boots": 0.1951682873453
         },
         {
          "boots": 0.1948847382428
         },
         {
          "boots": 0.19240944164770002
         },
         {
          "boots": 0.1978070743759
         },
         {
          "boots": 0.1970289897116
         },
         {
          "boots": 0.19098844353660002
         },
         {
          "boots": 0.1909661189499
         },
         {
          "boots": 0.1970797649016
         },
         {
          "boots": 0.1942447122393
         },
         {
          "boots": 0.19555485497460004
         },
         {
          "boots": 0.19316756884289998
         },
         {
          "boots": 0.1932729925263
         },
         {
          "boots": 0.19130002674810004
         },
         {
          "boots": 0.19211561929
         },
         {
          "boots": 0.189200665285
         },
         {
          "boots": 0.1958582862365
         },
         {
          "boots": 0.1997559658798
         },
         {
          "boots": 0.195206523293
         },
         {
          "boots": 0.1922530389298
         },
         {
          "boots": 0.19365895653900003
         },
         {
          "boots": 0.19344282085180003
         },
         {
          "boots": 0.1979340303039
         },
         {
          "boots": 0.19481300380590003
         },
         {
          "boots": 0.19347695249840002
         },
         {
          "boots": 0.1907190193936
         },
         {
          "boots": 0.19378638449600002
         },
         {
          "boots": 0.1958016713625
         },
         {
          "boots": 0.190959231082
         },
         {
          "boots": 0.1916005701656
         },
         {
          "boots": 0.19133062832790002
         },
         {
          "boots": 0.1945623821387
         },
         {
          "boots": 0.19376212379720004
         },
         {
          "boots": 0.19231168107180002
         },
         {
          "boots": 0.1955326906586
         },
         {
          "boots": 0.1960154117482
         },
         {
          "boots": 0.19230840010180003
         },
         {
          "boots": 0.19223249943200002
         },
         {
          "boots": 0.1957649580195
         },
         {
          "boots": 0.1940192511214
         },
         {
          "boots": 0.193704163467
         },
         {
          "boots": 0.1927927077305
         },
         {
          "boots": 0.1977272978083
         },
         {
          "boots": 0.19486491989790003
         },
         {
          "boots": 0.1903154017915
         },
         {
          "boots": 0.1973935514363
         },
         {
          "boots": 0.1913915715569
         },
         {
          "boots": 0.19361674587070002
         },
         {
          "boots": 0.19395343040350002
         },
         {
          "boots": 0.19070803211800003
         },
         {
          "boots": 0.19141939500820002
         },
         {
          "boots": 0.1939616623039
         },
         {
          "boots": 0.19110038028980003
         },
         {
          "boots": 0.1932422022887
         },
         {
          "boots": 0.1963211424208
         },
         {
          "boots": 0.1910000213579
         },
         {
          "boots": 0.1915647990595
         },
         {
          "boots": 0.18813891368530003
         },
         {
          "boots": 0.193614002024
         },
         {
          "boots": 0.1975754979202
         },
         {
          "boots": 0.19693404998790004
         },
         {
          "boots": 0.2002313070043
         },
         {
          "boots": 0.19390148791609998
         },
         {
          "boots": 0.1972344582654
         },
         {
          "boots": 0.1914111083255
         },
         {
          "boots": 0.19031576741030004
         },
         {
          "boots": 0.19060621094350003
         },
         {
          "boots": 0.19110412926630002
         },
         {
          "boots": 0.1941648076811
         },
         {
          "boots": 0.19452747342110002
         },
         {
          "boots": 0.19722680407870002
         },
         {
          "boots": 0.1919318016906
         },
         {
          "boots": 0.1917657015801
         },
         {
          "boots": 0.1932897345347
         },
         {
          "boots": 0.1934622737011
         },
         {
          "boots": 0.19192563573789997
         },
         {
          "boots": 0.1914266435112
         },
         {
          "boots": 0.1911758053427
         },
         {
          "boots": 0.19572778092970003
         },
         {
          "boots": 0.1925274282949
         },
         {
          "boots": 0.18993042316510003
         },
         {
          "boots": 0.19449583017120003
         },
         {
          "boots": 0.19088251672140003
         },
         {
          "boots": 0.1953038989292
         },
         {
          "boots": 0.1885583582436
         },
         {
          "boots": 0.1959266924924
         },
         {
          "boots": 0.1957944320455
         },
         {
          "boots": 0.1953535243659
         },
         {
          "boots": 0.19294384573940002
         },
         {
          "boots": 0.19462274475100003
         },
         {
          "boots": 0.1937251602806
         },
         {
          "boots": 0.1928627128821
         },
         {
          "boots": 0.19281119968760002
         },
         {
          "boots": 0.19043150583850002
         },
         {
          "boots": 0.193473324649
         },
         {
          "boots": 0.1941062364435
         },
         {
          "boots": 0.19711150411400002
         },
         {
          "boots": 0.19354817644650002
         },
         {
          "boots": 0.18976962568050001
         },
         {
          "boots": 0.19285192440310003
         },
         {
          "boots": 0.1943189747524
         },
         {
          "boots": 0.1942868142923
         },
         {
          "boots": 0.1907907855088
         },
         {
          "boots": 0.1935285867375
         },
         {
          "boots": 0.191366760119
         },
         {
          "boots": 0.19089429638510003
         },
         {
          "boots": 0.197322968827
         },
         {
          "boots": 0.18848469451200003
         },
         {
          "boots": 0.1983782183758
         },
         {
          "boots": 0.1901163594536
         },
         {
          "boots": 0.1950505388939
         },
         {
          "boots": 0.19602473794140002
         },
         {
          "boots": 0.19136564941340004
         },
         {
          "boots": 0.19304528026540002
         },
         {
          "boots": 0.1950124638469
         },
         {
          "boots": 0.19313283324020003
         },
         {
          "boots": 0.1937653708473
         },
         {
          "boots": 0.19701491856490003
         },
         {
          "boots": 0.19782615705420004
         },
         {
          "boots": 0.19822745741140002
         },
         {
          "boots": 0.19267895502850002
         },
         {
          "boots": 0.1933742393181
         },
         {
          "boots": 0.19693163256340004
         },
         {
          "boots": 0.19445366678190004
         },
         {
          "boots": 0.1873695471348
         },
         {
          "boots": 0.19683164000810002
         },
         {
          "boots": 0.1946634429894
         },
         {
          "boots": 0.19328061621680004
         },
         {
          "boots": 0.19562034413140003
         },
         {
          "boots": 0.1935689832656
         },
         {
          "boots": 0.1936712306849
         },
         {
          "boots": 0.1871902282208
         },
         {
          "boots": 0.18777738353950002
         },
         {
          "boots": 0.1946032580625
         },
         {
          "boots": 0.19414914711179998
         },
         {
          "boots": 0.1904749981378
         },
         {
          "boots": 0.1946982075935
         },
         {
          "boots": 0.1935281043442
         },
         {
          "boots": 0.1918588952322
         },
         {
          "boots": 0.1957702514337
         },
         {
          "boots": 0.1977535007855
         },
         {
          "boots": 0.1906431205542
         },
         {
          "boots": 0.1956210677852
         },
         {
          "boots": 0.19688162061550002
         },
         {
          "boots": 0.194249519585
         },
         {
          "boots": 0.1954579918538
         },
         {
          "boots": 0.19607616077480003
         },
         {
          "boots": 0.1942711153763
         },
         {
          "boots": 0.1933668165699
         },
         {
          "boots": 0.19503892232850004
         },
         {
          "boots": 0.19090983749940002
         },
         {
          "boots": 0.19646989992230005
         },
         {
          "boots": 0.1940754008628
         },
         {
          "boots": 0.19205930537030003
         },
         {
          "boots": 0.19171251733300002
         },
         {
          "boots": 0.197760609112
         },
         {
          "boots": 0.18964245050100004
         },
         {
          "boots": 0.1965221653736
         },
         {
          "boots": 0.1952419941347
         },
         {
          "boots": 0.1950054931095
         },
         {
          "boots": 0.1967325724162
         },
         {
          "boots": 0.1922276165043
         },
         {
          "boots": 0.195376902299
         },
         {
          "boots": 0.19549643956270002
         },
         {
          "boots": 0.1908089723514
         },
         {
          "boots": 0.18926893873010003
         },
         {
          "boots": 0.19318293439550002
         },
         {
          "boots": 0.190758069239
         },
         {
          "boots": 0.190688973438
         },
         {
          "boots": 0.1905052325857
         },
         {
          "boots": 0.193518953658
         },
         {
          "boots": 0.1939036263816
         },
         {
          "boots": 0.19274963216340002
         },
         {
          "boots": 0.19545881705680002
         },
         {
          "boots": 0.19545673365729999
         },
         {
          "boots": 0.1953023110077
         },
         {
          "boots": 0.1952425944297
         },
         {
          "boots": 0.1968168694247
         },
         {
          "boots": 0.19137516501550003
         },
         {
          "boots": 0.1957885439948
         },
         {
          "boots": 0.1964006856277
         },
         {
          "boots": 0.194693240495
         },
         {
          "boots": 0.1925461262948
         },
         {
          "boots": 0.19044225403110002
         },
         {
          "boots": 0.19221406091890003
         },
         {
          "boots": 0.1934180904796
         },
         {
          "boots": 0.1943368589214
         },
         {
          "boots": 0.19387477098410003
         },
         {
          "boots": 0.19370197837199998
         },
         {
          "boots": 0.1976274741886
         },
         {
          "boots": 0.1984104028399
         },
         {
          "boots": 0.1916186747682
         },
         {
          "boots": 0.19594057311750002
         },
         {
          "boots": 0.1943394964923
         },
         {
          "boots": 0.19366656993870002
         },
         {
          "boots": 0.1921130211042
         },
         {
          "boots": 0.1931978400977
         },
         {
          "boots": 0.18878665114540003
         },
         {
          "boots": 0.1927946854177
         },
         {
          "boots": 0.1919595421792
         },
         {
          "boots": 0.1920850556259
         },
         {
          "boots": 0.19487288014680001
         },
         {
          "boots": 0.1978862499459
         },
         {
          "boots": 0.1959130637835
         },
         {
          "boots": 0.19223795468500002
         },
         {
          "boots": 0.19381375278979998
         },
         {
          "boots": 0.193483147212
         },
         {
          "boots": 0.1938886104631
         },
         {
          "boots": 0.1935407842029
         },
         {
          "boots": 0.1942778019487
         },
         {
          "boots": 0.1900098283627
         },
         {
          "boots": 0.19505928316719998
         },
         {
          "boots": 0.19494141604700002
         },
         {
          "boots": 0.19769540103640001
         },
         {
          "boots": 0.19351204269120004
         },
         {
          "boots": 0.191682083213
         },
         {
          "boots": 0.1964436592621
         },
         {
          "boots": 0.19679470732360002
         },
         {
          "boots": 0.19118716067629998
         },
         {
          "boots": 0.19283942226210002
         },
         {
          "boots": 0.2005128792745
         },
         {
          "boots": 0.19310364891930004
         },
         {
          "boots": 0.19380574821170002
         },
         {
          "boots": 0.1932793831785
         },
         {
          "boots": 0.19544168650370003
         },
         {
          "boots": 0.1928346535395
         },
         {
          "boots": 0.1940993968797
         },
         {
          "boots": 0.1933028049759
         },
         {
          "boots": 0.190985499381
         },
         {
          "boots": 0.1910034830304
         },
         {
          "boots": 0.19525987035550002
         },
         {
          "boots": 0.1929561096337
         },
         {
          "boots": 0.1967197814155
         },
         {
          "boots": 0.19517268962340004
         },
         {
          "boots": 0.1960481992858
         },
         {
          "boots": 0.1910880451253
         },
         {
          "boots": 0.1932483302155
         },
         {
          "boots": 0.19768412627530002
         },
         {
          "boots": 0.1958717685326
         },
         {
          "boots": 0.19596204384009996
         },
         {
          "boots": 0.19338583197950002
         },
         {
          "boots": 0.192849730366
         },
         {
          "boots": 0.1963621259763
         },
         {
          "boots": 0.19595490030690002
         },
         {
          "boots": 0.1877414999788
         },
         {
          "boots": 0.19511938795130002
         },
         {
          "boots": 0.1911722865215
         },
         {
          "boots": 0.19274552568519998
         },
         {
          "boots": 0.19476633993420003
         },
         {
          "boots": 0.19198475900200002
         },
         {
          "boots": 0.19881633665530002
         },
         {
          "boots": 0.1981507918514
         },
         {
          "boots": 0.1937092319761
         },
         {
          "boots": 0.1920130062306
         },
         {
          "boots": 0.19516191648390002
         },
         {
          "boots": 0.19278454608820003
         },
         {
          "boots": 0.19277244504189997
         },
         {
          "boots": 0.18754991793710002
         },
         {
          "boots": 0.19557294792600002
         },
         {
          "boots": 0.19356481712190002
         },
         {
          "boots": 0.193547447182
         },
         {
          "boots": 0.19468598695800002
         },
         {
          "boots": 0.1881874824775
         },
         {
          "boots": 0.192659162247
         },
         {
          "boots": 0.19385519729730002
         },
         {
          "boots": 0.19180622555740004
         },
         {
          "boots": 0.1928797003349
         },
         {
          "boots": 0.19765791586860001
         },
         {
          "boots": 0.19364160472570002
         },
         {
          "boots": 0.19172709368330002
         },
         {
          "boots": 0.19289920434000002
         },
         {
          "boots": 0.1929162924287
         },
         {
          "boots": 0.19296981982890002
         },
         {
          "boots": 0.19198809759750002
         },
         {
          "boots": 0.1946018516568
         },
         {
          "boots": 0.1989119447861
         },
         {
          "boots": 0.19049802837380003
         },
         {
          "boots": 0.19449747924240002
         },
         {
          "boots": 0.1914586171279
         },
         {
          "boots": 0.19813560120970003
         },
         {
          "boots": 0.1926401372167
         },
         {
          "boots": 0.1901712883089
         },
         {
          "boots": 0.1972485928248
         },
         {
          "boots": 0.1946785293456
         },
         {
          "boots": 0.19046753624329998
         },
         {
          "boots": 0.1931566001406
         },
         {
          "boots": 0.1927545890094
         },
         {
          "boots": 0.19386312490660002
         },
         {
          "boots": 0.19306295081740002
         },
         {
          "boots": 0.197940902859
         },
         {
          "boots": 0.1966318195408
         },
         {
          "boots": 0.1961771581123
         },
         {
          "boots": 0.1926031325328
         },
         {
          "boots": 0.19579244229770001
         },
         {
          "boots": 0.1956385272333
         },
         {
          "boots": 0.18791142246019998
         },
         {
          "boots": 0.19630751217740003
         },
         {
          "boots": 0.19524705847970003
         },
         {
          "boots": 0.19245759912720004
         },
         {
          "boots": 0.18925645609930003
         },
         {
          "boots": 0.1946920655937
         },
         {
          "boots": 0.1874831442828
         },
         {
          "boots": 0.1978255034064
         },
         {
          "boots": 0.19359925475580003
         },
         {
          "boots": 0.1922214828347
         },
         {
          "boots": 0.19049925374260002
         },
         {
          "boots": 0.19331894011499998
         },
         {
          "boots": 0.1945444372391
         },
         {
          "boots": 0.19196050263540004
         },
         {
          "boots": 0.19500061140820002
         },
         {
          "boots": 0.19348944636290002
         },
         {
          "boots": 0.18949957054310002
         }
        ]
       },
       "encoding": {
        "x": {
         "bin": true,
         "field": "boots",
         "type": "quantitative"
        },
        "y": {
         "aggregate": "count",
         "field": "*",
         "type": "quantitative"
        }
       },
       "mark": "bar"
      },
      "text/plain": [
       "<VegaLite 2 object>"
      ]
     },
     "execution_count": 6,
     "metadata": {},
     "output_type": "execute_result"
    }
   ],
   "source": [
    "bootstrapped_means = pd.DataFrame(bootstrapped_means, columns = ['boots'], dtype=float)\n",
    "alt.Chart(bootstrapped_means).mark_bar().encode(\n",
    "alt.X('boots:Q', bin = True), \n",
    "alt.Y('count(*):Q'))"
   ]
  },
  {
   "cell_type": "code",
   "execution_count": 7,
   "metadata": {},
   "outputs": [
    {
     "name": "stdout",
     "output_type": "stream",
     "text": [
      "[0.18835399 0.19829002]\n"
     ]
    }
   ],
   "source": [
    "conf = np.percentile(bootstrapped_means, (2.5,97.5))\n",
    "print(conf)"
   ]
  },
  {
   "cell_type": "markdown",
   "metadata": {},
   "source": [
    "We can conclude with 95% confidence that the true mean of \"song.hotness\" is between 0.1884 and 0.1983. "
   ]
  },
  {
   "cell_type": "code",
   "execution_count": 8,
   "metadata": {},
   "outputs": [
    {
     "name": "stdout",
     "output_type": "stream",
     "text": [
      "boots    0.000047\n",
      "dtype: float64\n",
      "boots    0.000006\n",
      "dtype: float64\n"
     ]
    }
   ],
   "source": [
    "bias = np.mean(bootstrapped_means) - np.mean(df['song_hotness'])\n",
    "variance = np.var(bootstrapped_means)\n",
    "print(bias)\n",
    "print(variance)"
   ]
  },
  {
   "cell_type": "markdown",
   "metadata": {},
   "source": [
    "The above output reveals that the bias of the estimator is very low at 0.000047 and the variance is also very low at 0.000006."
   ]
  },
  {
   "cell_type": "markdown",
   "metadata": {},
   "source": [
    "### Feature Scaling"
   ]
  },
  {
   "cell_type": "markdown",
   "metadata": {},
   "source": [
    "The target variable of 'song_hotness' is assigned to y and a subset of the full dataframe with the most relavent columns will be assigned to X. Subsetting the the dataset is a tradeoff made to gain ease in computing of the models, but what are very likely the truely important features are kept."
   ]
  },
  {
   "cell_type": "code",
   "execution_count": 9,
   "metadata": {},
   "outputs": [],
   "source": [
    "X = df[['artist_hotness', 'bars_start', 'beats_start', 'duration', 'end_of_fade_in', 'genre', 'key', 'loudness', 'mode', 'release_year', 'start_of_fade_out', 'tempo', 'time_signature']]\n",
    "y = df['song_hotness']\n",
    "X = X.fillna( 'NA' )\n",
    "X_dict = X.to_dict(orient = 'records')\n",
    "vec = DictVectorizer(sparse = True, dtype = int)\n",
    "X_vec = vec.fit_transform(X_dict)\n",
    "Xtrain, Xtest, ytrain, ytest = train_test_split(X_vec, y, test_size=0.2, random_state = 4)\n"
   ]
  },
  {
   "cell_type": "markdown",
   "metadata": {},
   "source": [
    "### Fit Linear Regression: Model 1"
   ]
  },
  {
   "cell_type": "code",
   "execution_count": 10,
   "metadata": {},
   "outputs": [
    {
     "data": {
      "image/png": "[encoded data removed]",
      "text/plain": [
       "<matplotlib.figure.Figure at 0x7fac2ed02828>"
      ]
     },
     "metadata": {},
     "output_type": "display_data"
    }
   ],
   "source": [
    "model = LinearRegression()\n",
    "model.fit(Xtrain, ytrain)\n",
    "intercept =model.intercept_\n",
    "coefs = model.coef_\n",
    "preds = model.predict(Xtest)\n",
    "plt.scatter(ytest, preds)\n",
    "plt.xlabel('Observed ytest data')\n",
    "plt.ylabel('Predicted y data')\n",
    "plt.title('Observed Versus Predicted Plot Linear Fit')\n",
    "plt.show()"
   ]
  },
  {
   "cell_type": "code",
   "execution_count": 11,
   "metadata": {},
   "outputs": [
    {
     "name": "stdout",
     "output_type": "stream",
     "text": [
      "R-squared for test set: 0.1809106777522248\n",
      "R-squared for the training set: 0.2907378428507523\n"
     ]
    }
   ],
   "source": [
    "print(\"R-squared for test set:\", model.score(Xtest, ytest))\n",
    "print(\"R-squared for the training set:\", model.score(Xtrain, ytrain))"
   ]
  },
  {
   "cell_type": "code",
   "execution_count": 12,
   "metadata": {},
   "outputs": [
    {
     "data": {
      "image/png": "[encoded data removed]",
      "text/plain": [
       "<matplotlib.figure.Figure at 0x7fac2ec0efd0>"
      ]
     },
     "metadata": {},
     "output_type": "display_data"
    }
   ],
   "source": [
    "plt.hist(x=(ytest-preds), bins=20)\n",
    "plt.xlabel(\"Linear Regression Residuals (Observed-Predicted)\")\n",
    "plt.ylabel(\"Frequency\")\n",
    "plt.title(\"Distribution of Residuals in Linear Regression Model\")\n",
    "plt.show()"
   ]
  },
  {
   "cell_type": "markdown",
   "metadata": {},
   "source": [
    "Here it is shown that the residuals of the linear regression are mostly normally distributed, with a slight right skew. If it were more significantly right skewed, a Box-Cox Transformation may have been an appropriate step to normalize the residuals, but one will not be done here. "
   ]
  },
  {
   "cell_type": "code",
   "execution_count": 13,
   "metadata": {},
   "outputs": [
    {
     "name": "stdout",
     "output_type": "stream",
     "text": [
      "489\n"
     ]
    },
    {
     "data": {
      "text/plain": [
       "0     -0.169245\n",
       "1      0.000835\n",
       "2      0.010049\n",
       "3      0.001898\n",
       "4     -0.002134\n",
       "5     -0.123762\n",
       "6     -0.118620\n",
       "7     -0.000051\n",
       "8     -0.060962\n",
       "9      0.084559\n",
       "10     0.161074\n",
       "11     0.042933\n",
       "12    -0.307037\n",
       "13     0.144190\n",
       "14    -0.045561\n",
       "15     0.203075\n",
       "16    -0.289080\n",
       "17     0.251506\n",
       "18     0.122428\n",
       "19    -0.162181\n",
       "20     0.040646\n",
       "21    -0.092270\n",
       "22    -0.133514\n",
       "23     0.231454\n",
       "24    -0.184884\n",
       "25     0.014379\n",
       "26    -0.027738\n",
       "27     0.065913\n",
       "28    -0.102934\n",
       "29    -0.024216\n",
       "         ...   \n",
       "459   -0.149972\n",
       "460   -0.120736\n",
       "461   -0.136470\n",
       "462   -0.039701\n",
       "463   -0.056147\n",
       "464   -0.046511\n",
       "465   -0.596594\n",
       "466   -0.583565\n",
       "467   -0.609219\n",
       "468   -0.601099\n",
       "469   -0.587956\n",
       "470   -0.603558\n",
       "471   -0.593587\n",
       "472   -0.583544\n",
       "473   -0.610546\n",
       "474   -0.583579\n",
       "475   -0.585817\n",
       "476   -0.577142\n",
       "477    0.004116\n",
       "478   -3.555124\n",
       "479   -3.561134\n",
       "480    0.002130\n",
       "481    4.119005\n",
       "482   -0.001956\n",
       "483    0.000058\n",
       "484    0.003195\n",
       "485    0.011397\n",
       "486    0.021456\n",
       "487    0.020703\n",
       "488    0.008254\n",
       "Length: 489, dtype: float64"
      ]
     },
     "execution_count": 13,
     "metadata": {},
     "output_type": "execute_result"
    }
   ],
   "source": [
    " print(len(coefs))\n",
    "equation_coefs = pd.Series(coefs)\n",
    "equation_coefs"
   ]
  },
  {
   "cell_type": "code",
   "execution_count": 14,
   "metadata": {},
   "outputs": [
    {
     "data": {
      "text/plain": [
       "0.19340794901212502"
      ]
     },
     "execution_count": 14,
     "metadata": {},
     "output_type": "execute_result"
    }
   ],
   "source": [
    "intercept"
   ]
  },
  {
   "cell_type": "markdown",
   "metadata": {},
   "source": [
    "The two cells above would potentially give the linear equation for the prediction line in the regression. The equation would be formatted in the form:\n",
    "\n",
    "\n",
    "\\begin{equation}\n",
    "{\n",
    "'song hotness' = 0.1934  -0.1692x_1 -0.0008x_2 + 0.0101x_3+ ...\n",
    "}\n",
    "\\end{equation}\n",
    "\n",
    "\n",
    "The full equation has 489 terms including the intercept."
   ]
  },
  {
   "cell_type": "markdown",
   "metadata": {},
   "source": [
    "### Cross Validation"
   ]
  },
  {
   "cell_type": "markdown",
   "metadata": {},
   "source": [
    "There are some limitations to using a training/testing split because testing accuracy has the potential to have high variance based on what observations we group into the training and testing sets. Cross validation will help test different sets of observations as our testing sets. "
   ]
  },
  {
   "cell_type": "code",
   "execution_count": 15,
   "metadata": {},
   "outputs": [
    {
     "name": "stdout",
     "output_type": "stream",
     "text": [
      "[ 0.20913997  0.21209861  0.1896201  -9.0318123   0.18892909]\n"
     ]
    }
   ],
   "source": [
    "cv_scores = cross_val_score(model, X_vec, y, cv = 5, scoring = \"r2\")\n",
    "print(cv_scores)"
   ]
  },
  {
   "cell_type": "markdown",
   "metadata": {},
   "source": [
    "The 5 above values are R-squared values which reveal the general range of R-squared values the regression was recieving. The negative value in this set that is an outlier represents a fold of our training set which performed worse than a horizontal line. \n",
    "\n",
    "Because of these values it may be better to start fitting polynomial regressions to the data. "
   ]
  },
  {
   "cell_type": "markdown",
   "metadata": {},
   "source": [
    "If we remember from the tidying of the data, missing values for \"song_hotness\" were replaced with 0's because they were not popular enoug for the data collection program assessing song popularity to pick them up. The plot of observed versus predicted for the linear regression above has a long string of these observed 0's for the true song_hotness value, and the regression performs rather poorly because of this. \n",
    "\n",
    "For this reason, the block below creates a new subset of the data where there are no observations of \"song_hotness\" as 0."
   ]
  },
  {
   "cell_type": "code",
   "execution_count": 16,
   "metadata": {},
   "outputs": [],
   "source": [
    "df_sub = df.loc[df.song_hotness != 0]\n",
    "X_sub = df_sub[['artist_hotness', 'bars_start', 'beats_start', 'duration', 'end_of_fade_in', 'genre', 'key', 'loudness', 'mode', 'release_year', 'start_of_fade_out', 'tempo', 'time_signature']]\n",
    "X_sub = X_sub.fillna( 'NA' )\n",
    "y_sub = df_sub['song_hotness']\n",
    "X_sub_dict = X_sub.to_dict(orient = 'records')\n",
    "vec_ = DictVectorizer(sparse = True, dtype = int)\n",
    "X_sub_vec = vec_.fit_transform(X_sub_dict)\n",
    "Xtrain_, Xtest_, ytrain_, ytest_ = train_test_split(X_sub_vec, y_sub, test_size=0.2, random_state = 10)"
   ]
  },
  {
   "cell_type": "code",
   "execution_count": 17,
   "metadata": {},
   "outputs": [
    {
     "data": {
      "text/plain": [
       "4214"
      ]
     },
     "execution_count": 17,
     "metadata": {},
     "output_type": "execute_result"
    }
   ],
   "source": [
    "len(df_sub)"
   ]
  },
  {
   "cell_type": "markdown",
   "metadata": {},
   "source": [
    "The data is now left with 4,214 observations, so this is an unfortunate trade off, but it was made in hopes of making a model with a greater R-squared value on the testing data because the model needs to perform well on data that it has not seen before. "
   ]
  },
  {
   "cell_type": "markdown",
   "metadata": {},
   "source": [
    "### Re-run Linear Regression on Subsetted Data: Model 2"
   ]
  },
  {
   "cell_type": "code",
   "execution_count": 18,
   "metadata": {},
   "outputs": [
    {
     "data": {
      "image/png": "[encoded data removed]",
      "text/plain": [
       "<matplotlib.figure.Figure at 0x7fac2e8c3a58>"
      ]
     },
     "metadata": {},
     "output_type": "display_data"
    }
   ],
   "source": [
    "new_model = LinearRegression()\n",
    "new_model.fit(Xtrain_, ytrain_)\n",
    "new_intercept =new_model.intercept_\n",
    "new_coefs = new_model.coef_\n",
    "new_preds = new_model.predict(Xtest_)\n",
    "plt.scatter(ytest_, new_preds)\n",
    "plt.xlabel('Observed ytest data')\n",
    "plt.ylabel('Predicted y data')\n",
    "plt.title('Observed Versus Predicted Plot Linear Fit of Subsetted Data')\n",
    "plt.show()"
   ]
  },
  {
   "cell_type": "code",
   "execution_count": 19,
   "metadata": {},
   "outputs": [
    {
     "name": "stdout",
     "output_type": "stream",
     "text": [
      "R-squared for test set: 0.2603438010028556\n",
      "R-squared for the training set: 0.3547628574185437\n"
     ]
    }
   ],
   "source": [
    "print(\"R-squared for test set:\", new_model.score(Xtest_, ytest_))\n",
    "print(\"R-squared for the training set:\", new_model.score(Xtrain_, ytrain_))"
   ]
  },
  {
   "cell_type": "markdown",
   "metadata": {},
   "source": [
    "The new_model has a slightly improved R-squared for the both the training and testing sets. As stated before there is more importance placed on the testing set because the model needs to be able to successfully predict the target based off of data that it has not seen before. It should be considered a success to see the test set R-squared value increase from what was seen in the first regression model."
   ]
  },
  {
   "cell_type": "code",
   "execution_count": 20,
   "metadata": {},
   "outputs": [
    {
     "data": {
      "image/png": "[encoded data removed]",
      "text/plain": [
       "<matplotlib.figure.Figure at 0x7fac2ef113c8>"
      ]
     },
     "metadata": {},
     "output_type": "display_data"
    }
   ],
   "source": [
    "plt.hist(x=(ytest_-new_preds), bins=20)\n",
    "plt.xlabel(\"Linear Regression Residuals (Observed-Predicted)\")\n",
    "plt.ylabel(\"Frequency\")\n",
    "plt.title(\"Distribution of Residuals in Linear Regression Model of Subsetted Data\")\n",
    "plt.show()"
   ]
  },
  {
   "cell_type": "markdown",
   "metadata": {},
   "source": [
    "The improved performance of the model comes with normally distributed residuals, so this is a good sign for the model."
   ]
  },
  {
   "cell_type": "code",
   "execution_count": 21,
   "metadata": {},
   "outputs": [
    {
     "name": "stdout",
     "output_type": "stream",
     "text": [
      "[0.18500751 0.22571101 0.23480081 0.20212329 0.22588045]\n"
     ]
    }
   ],
   "source": [
    "cv_scores = cross_val_score(new_model, X_sub_vec, y_sub, cv = 5, scoring = \"r2\")\n",
    "print(cv_scores)"
   ]
  },
  {
   "cell_type": "markdown",
   "metadata": {},
   "source": [
    "Now when cross fold validation is run there is improvement as each fold has the model performing better than a horizontal line prediction."
   ]
  },
  {
   "cell_type": "markdown",
   "metadata": {},
   "source": [
    "### Fitting Polynomial Regression: Model 3"
   ]
  },
  {
   "cell_type": "markdown",
   "metadata": {},
   "source": [
    "In an attempt to attain a better fit model, we will try to fit a polynomial regression to the subsetted data and see what kind of fit we get. "
   ]
  },
  {
   "cell_type": "code",
   "execution_count": 22,
   "metadata": {},
   "outputs": [],
   "source": [
    "poly = PolynomialFeatures(degree = 2)\n",
    "X_train_quad = poly.fit_transform(Xtrain_.toarray())"
   ]
  },
  {
   "cell_type": "code",
   "execution_count": 23,
   "metadata": {},
   "outputs": [],
   "source": [
    "X_test_quad = poly.fit_transform(Xtest_.toarray())"
   ]
  },
  {
   "cell_type": "code",
   "execution_count": 24,
   "metadata": {},
   "outputs": [
    {
     "data": {
      "text/plain": [
       "LinearRegression(copy_X=True, fit_intercept=True, n_jobs=1, normalize=False)"
      ]
     },
     "execution_count": 24,
     "metadata": {},
     "output_type": "execute_result"
    }
   ],
   "source": [
    "###THIS TAKES ABOUT 5 MINS TO RUN\n",
    "lin_reg = LinearRegression()\n",
    "lin_reg.fit(X_train_quad, ytrain_)"
   ]
  },
  {
   "cell_type": "code",
   "execution_count": 25,
   "metadata": {},
   "outputs": [],
   "source": [
    "y_preds = lin_reg.predict(X_test_quad)"
   ]
  },
  {
   "cell_type": "code",
   "execution_count": 26,
   "metadata": {},
   "outputs": [
    {
     "data": {
      "image/png": "[encoded data removed]",
      "text/plain": [
       "<matplotlib.figure.Figure at 0x7fac2e8e8128>"
      ]
     },
     "metadata": {},
     "output_type": "display_data"
    },
    {
     "name": "stdout",
     "output_type": "stream",
     "text": [
      "843\n",
      "843\n"
     ]
    }
   ],
   "source": [
    "plt.scatter(ytest_, y_preds, color='red')\n",
    "plt.xlabel('Observed ytest data')\n",
    "plt.ylabel('Predicted Polynomial y data')\n",
    "plt.title('Observed Versus Predicted Plot Polynomial Fit')\n",
    "plt.show()\n",
    "print(len(y_preds))\n",
    "print(len(ytest_))"
   ]
  },
  {
   "cell_type": "code",
   "execution_count": 27,
   "metadata": {},
   "outputs": [
    {
     "name": "stdout",
     "output_type": "stream",
     "text": [
      "R-squared for test set: -2728996278.152925\n",
      "R-squared for the training set: 0.8945864351069066\n"
     ]
    }
   ],
   "source": [
    "print(\"R-squared for test set:\", lin_reg.score(X_test_quad, ytest_))\n",
    "print(\"R-squared for the training set:\", lin_reg.score(X_train_quad, ytrain_))"
   ]
  },
  {
   "cell_type": "markdown",
   "metadata": {},
   "source": [
    "The model seems to perform extremely poor on the test set, but there is clearly a major outlier. The block below plots the polynomial regression without that huge outlier."
   ]
  },
  {
   "cell_type": "markdown",
   "metadata": {},
   "source": [
    "### Rerunning Polynomial Regression Without Outlier: Model 4"
   ]
  },
  {
   "cell_type": "code",
   "execution_count": 28,
   "metadata": {},
   "outputs": [
    {
     "data": {
      "image/png": "[encoded data removed]",
      "text/plain": [
       "<matplotlib.figure.Figure at 0x7fac2ea03978>"
      ]
     },
     "metadata": {},
     "output_type": "display_data"
    }
   ],
   "source": [
    "i = np.where(y_preds < -100000)\n",
    "y_preds_sub = np.delete(y_preds, i)\n",
    "ytest_matrix = ytest_.as_matrix()\n",
    "ytest_sub = np.delete(ytest_matrix, i)\n",
    "plt.scatter(ytest_sub, y_preds_sub, color='red')\n",
    "plt.xlabel('Observed ytest data')\n",
    "plt.ylabel('Predicted Polynomial y data')\n",
    "plt.title('Observed Versus Predicted Plot Polynomial Fit Without Major Outlier')\n",
    "plt.show()"
   ]
  },
  {
   "cell_type": "markdown",
   "metadata": {},
   "source": [
    "Even when the most extreme outlier, the plot performs quite poorly and predicts many impossible negative values. For this reason, the polynomial regression performs worse than the linear fit."
   ]
  },
  {
   "cell_type": "markdown",
   "metadata": {},
   "source": [
    "### Implementing a Support Vector Regression To Predict Song Popularity: Model 5"
   ]
  },
  {
   "cell_type": "markdown",
   "metadata": {},
   "source": [
    "Using an SVR on the music data could potentially enable more effective machine learning in predicting the 'song_hotness' target variable. This model can use Support Vector Machines on the training data by running a linear regression in an infinite dimensional space. The important factor in SVR is the kernal which determines the form of the regression, and in the SVR run below, a Gaussian kernal is chosen. The kernal will help determine which feature columns are most influencial in the data, and this is then accounted for to attain a best fit of prediction values with minimal loss."
   ]
  },
  {
   "cell_type": "code",
   "execution_count": 29,
   "metadata": {},
   "outputs": [],
   "source": [
    "svr = SVR(kernel = 'rbf')\n",
    "svr.fit(Xtrain_, ytrain_)\n",
    "svr_preds = svr.predict(Xtest_)"
   ]
  },
  {
   "cell_type": "code",
   "execution_count": 30,
   "metadata": {},
   "outputs": [
    {
     "data": {
      "image/png": "[encoded data removed]",
      "text/plain": [
       "<matplotlib.figure.Figure at 0x7fac2bfb2518>"
      ]
     },
     "metadata": {},
     "output_type": "display_data"
    }
   ],
   "source": [
    "plt.scatter(ytest_, svr_preds, color='red')\n",
    "plt.xlabel('Observed ytest Data')\n",
    "plt.ylabel('Predicted SVR y Data')\n",
    "plt.title('Observed Versus Predicted Plot For SVR')\n",
    "plt.show()"
   ]
  },
  {
   "cell_type": "code",
   "execution_count": 31,
   "metadata": {},
   "outputs": [
    {
     "name": "stdout",
     "output_type": "stream",
     "text": [
      "R-squared for test set: -0.0307727036584311\n",
      "R-squared for the training set: 0.5766814820810404\n"
     ]
    }
   ],
   "source": [
    "print(\"R-squared for test set:\", svr.score(Xtest_, ytest_))\n",
    "print(\"R-squared for the training set:\", svr.score(Xtrain_, ytrain_))"
   ]
  },
  {
   "cell_type": "markdown",
   "metadata": {},
   "source": [
    "The R-squared value for the test set here does not perform well at all, very close to being only as good as a horizontal line."
   ]
  },
  {
   "cell_type": "code",
   "execution_count": 32,
   "metadata": {},
   "outputs": [
    {
     "data": {
      "image/png": "[encoded data removed]",
      "text/plain": [
       "<matplotlib.figure.Figure at 0x7fac2bdffa58>"
      ]
     },
     "metadata": {},
     "output_type": "display_data"
    }
   ],
   "source": [
    "plt.hist(x=(ytest_-svr_preds), bins=20)\n",
    "plt.xlabel(\"Residuals (Observed-Predicted)\")\n",
    "plt.ylabel(\"Frequency\")\n",
    "plt.title(\"Distribution of Residuals in Support Vector Regression Model\")\n",
    "plt.show()"
   ]
  },
  {
   "cell_type": "markdown",
   "metadata": {},
   "source": [
    "Here the residuals are reasonably normally distributed for the SVR model."
   ]
  },
  {
   "cell_type": "code",
   "execution_count": 33,
   "metadata": {},
   "outputs": [
    {
     "name": "stdout",
     "output_type": "stream",
     "text": [
      "[-0.08876588 -0.0491331   0.03804751 -0.00037512 -0.02946559]\n"
     ]
    }
   ],
   "source": [
    "cv_scores = cross_val_score(svr, X_sub_vec, y_sub, cv = 5, scoring = \"r2\")\n",
    "print(cv_scores)"
   ]
  },
  {
   "cell_type": "markdown",
   "metadata": {},
   "source": [
    "The cross validations show that the R-squared values all perform about equally poor, and this validates that something about the model is underperforming. In an effort to improve these values we will do another train test split and test the data against a larger selection of test data to compare its performance."
   ]
  },
  {
   "cell_type": "markdown",
   "metadata": {},
   "source": [
    "### Rerunning SVR with Different Split Value: Model 6"
   ]
  },
  {
   "cell_type": "code",
   "execution_count": 38,
   "metadata": {},
   "outputs": [
    {
     "data": {
      "image/png": "[encoded data removed]",
      "text/plain": [
       "<matplotlib.figure.Figure at 0x7fac2bd94470>"
      ]
     },
     "metadata": {},
     "output_type": "display_data"
    }
   ],
   "source": [
    "Xtrain_n, Xtest_n, ytrain_n, ytest_n = train_test_split(X_sub_vec, y_sub, test_size=0.33, random_state = 21)\n",
    "svr_new = SVR(kernel = 'rbf')\n",
    "svr_new.fit(Xtrain_n, ytrain_n)\n",
    "svr_preds_new = svr_new.predict(Xtest_n)\n",
    "plt.scatter(ytest_n, svr_preds_new, color='red')\n",
    "plt.xlabel('Observed ytest Data')\n",
    "plt.ylabel('Predicted SVR y Data')\n",
    "plt.title('Observed Versus Predicted Plot For SVR with Greater Test Size')\n",
    "plt.show()"
   ]
  },
  {
   "cell_type": "code",
   "execution_count": 39,
   "metadata": {},
   "outputs": [
    {
     "name": "stdout",
     "output_type": "stream",
     "text": [
      "R-squared for test set: 0.4290203800602656\n",
      "R-squared for the training set: 0.45882894357030674\n"
     ]
    }
   ],
   "source": [
    "print(\"R-squared for test set:\", svr.score(Xtest_n, ytest_n))\n",
    "print(\"R-squared for the training set:\", svr.score(Xtrain_n, ytrain_n))"
   ]
  },
  {
   "cell_type": "code",
   "execution_count": 40,
   "metadata": {},
   "outputs": [
    {
     "data": {
      "image/png": "[encoded data removed]",
      "text/plain": [
       "<matplotlib.figure.Figure at 0x7fac2ba26ac8>"
      ]
     },
     "metadata": {},
     "output_type": "display_data"
    }
   ],
   "source": [
    "plt.hist(x=(ytest_n-svr_preds_new), bins=20)\n",
    "plt.xlabel(\"Residuals (Observed-Predicted)\")\n",
    "plt.ylabel(\"Frequency\")\n",
    "plt.title(\"Distribution of Residuals in Support Vector Regression Model\")\n",
    "plt.show()"
   ]
  },
  {
   "cell_type": "markdown",
   "metadata": {},
   "source": [
    "Residuals are normally distributed."
   ]
  },
  {
   "cell_type": "code",
   "execution_count": 41,
   "metadata": {},
   "outputs": [
    {
     "name": "stdout",
     "output_type": "stream",
     "text": [
      "[-0.09260186 -0.03952808 -0.03672965]\n"
     ]
    }
   ],
   "source": [
    "cv_scores = cross_val_score(svr_new, X_sub_vec, y_sub, cv = 3, scoring = \"r2\")\n",
    "print(cv_scores)"
   ]
  },
  {
   "cell_type": "markdown",
   "metadata": {},
   "source": [
    "Despite the higher R-squared in the model, failure of the cross validation reveals that we are likely overfitting with this more complex SVR model, and it is not appropriate here.\n"
   ]
  },
  {
   "cell_type": "markdown",
   "metadata": {},
   "source": [
    "Compiled conclusions are included in the 06-Conclusions notebook."
   ]
  }
 ],
 "metadata": {
  "kernelspec": {
   "display_name": "Python 3",
   "language": "python",
   "name": "python3"
  },
  "language_info": {
   "codemirror_mode": {
    "name": "ipython",
    "version": 3
   },
   "file_extension": ".py",
   "mimetype": "text/x-python",
   "name": "python",
   "nbconvert_exporter": "python",
   "pygments_lexer": "ipython3",
   "version": "3.7.1"
  }
 },
 "nbformat": 4,
 "nbformat_minor": 2
}
