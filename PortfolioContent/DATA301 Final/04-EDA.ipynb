{
 "cells": [
  {
   "cell_type": "markdown",
   "metadata": {},
   "source": [
    "# Exploratory Data Analysis"
   ]
  },
  {
   "cell_type": "code",
   "execution_count": 5,
   "metadata": {},
   "outputs": [],
   "source": [
    "import pandas as pd\n",
    "import numpy as np\n",
    "import altair as alt\n",
    "%matplotlib inline\n",
    "import matplotlib.pyplot as plt\n",
    "from plotly.offline import iplot\n",
    "import plotly.plotly as py\n",
    "import seaborn as sns"
   ]
  },
  {
   "cell_type": "code",
   "execution_count": 11,
   "metadata": {},
   "outputs": [
    {
     "ename": "ValueError",
     "evalue": "Expected object or value",
     "output_type": "error",
     "traceback": [
      "\u001b[0;31m---------------------------------------------------------------------------\u001b[0m",
      "\u001b[0;31mValueError\u001b[0m                                Traceback (most recent call last)",
      "\u001b[0;32m<ipython-input-11-0f0c630ccd75>\u001b[0m in \u001b[0;36m<module>\u001b[0;34m\u001b[0m\n\u001b[0;32m----> 1\u001b[0;31m \u001b[0mdf\u001b[0m \u001b[0;34m=\u001b[0m \u001b[0mpd\u001b[0m\u001b[0;34m.\u001b[0m\u001b[0mread_json\u001b[0m\u001b[0;34m(\u001b[0m\u001b[0;34m'/data/danield2255/tidy_music.json'\u001b[0m\u001b[0;34m)\u001b[0m\u001b[0;34m\u001b[0m\u001b[0;34m\u001b[0m\u001b[0m\n\u001b[0m\u001b[1;32m      2\u001b[0m \u001b[0msong_popularity\u001b[0m \u001b[0;34m=\u001b[0m \u001b[0mpd\u001b[0m\u001b[0;34m.\u001b[0m\u001b[0mread_json\u001b[0m\u001b[0;34m(\u001b[0m\u001b[0;34m'/data/danield2255/song_popularity.json'\u001b[0m\u001b[0;34m)\u001b[0m\u001b[0;34m\u001b[0m\u001b[0;34m\u001b[0m\u001b[0m\n\u001b[1;32m      3\u001b[0m \u001b[0msong_year\u001b[0m \u001b[0;34m=\u001b[0m \u001b[0mpd\u001b[0m\u001b[0;34m.\u001b[0m\u001b[0mread_json\u001b[0m\u001b[0;34m(\u001b[0m\u001b[0;34m'/data/danield2255/song_year.json'\u001b[0m\u001b[0;34m)\u001b[0m\u001b[0;34m\u001b[0m\u001b[0;34m\u001b[0m\u001b[0m\n\u001b[1;32m      4\u001b[0m \u001b[0msong_genres\u001b[0m \u001b[0;34m=\u001b[0m \u001b[0mpd\u001b[0m\u001b[0;34m.\u001b[0m\u001b[0mread_json\u001b[0m\u001b[0;34m(\u001b[0m\u001b[0;34m'/data/danield2255/song_genres.json'\u001b[0m\u001b[0;34m)\u001b[0m\u001b[0;34m\u001b[0m\u001b[0;34m\u001b[0m\u001b[0m\n\u001b[1;32m      5\u001b[0m \u001b[0msong_tempo\u001b[0m \u001b[0;34m=\u001b[0m \u001b[0mpd\u001b[0m\u001b[0;34m.\u001b[0m\u001b[0mread_json\u001b[0m\u001b[0;34m(\u001b[0m\u001b[0;34m'/data/danield2255/song_tempo.json'\u001b[0m\u001b[0;34m)\u001b[0m\u001b[0;34m\u001b[0m\u001b[0;34m\u001b[0m\u001b[0m\n",
      "\u001b[0;32m~/anaconda3/lib/python3.7/site-packages/pandas/io/json/json.py\u001b[0m in \u001b[0;36mread_json\u001b[0;34m(path_or_buf, orient, typ, dtype, convert_axes, convert_dates, keep_default_dates, numpy, precise_float, date_unit, encoding, lines, chunksize, compression)\u001b[0m\n\u001b[1;32m    420\u001b[0m         \u001b[0;32mreturn\u001b[0m \u001b[0mjson_reader\u001b[0m\u001b[0;34m\u001b[0m\u001b[0;34m\u001b[0m\u001b[0m\n\u001b[1;32m    421\u001b[0m \u001b[0;34m\u001b[0m\u001b[0m\n\u001b[0;32m--> 422\u001b[0;31m     \u001b[0mresult\u001b[0m \u001b[0;34m=\u001b[0m \u001b[0mjson_reader\u001b[0m\u001b[0;34m.\u001b[0m\u001b[0mread\u001b[0m\u001b[0;34m(\u001b[0m\u001b[0;34m)\u001b[0m\u001b[0;34m\u001b[0m\u001b[0;34m\u001b[0m\u001b[0m\n\u001b[0m\u001b[1;32m    423\u001b[0m     \u001b[0;32mif\u001b[0m \u001b[0mshould_close\u001b[0m\u001b[0;34m:\u001b[0m\u001b[0;34m\u001b[0m\u001b[0;34m\u001b[0m\u001b[0m\n\u001b[1;32m    424\u001b[0m         \u001b[0;32mtry\u001b[0m\u001b[0;34m:\u001b[0m\u001b[0;34m\u001b[0m\u001b[0;34m\u001b[0m\u001b[0m\n",
      "\u001b[0;32m~/anaconda3/lib/python3.7/site-packages/pandas/io/json/json.py\u001b[0m in \u001b[0;36mread\u001b[0;34m(self)\u001b[0m\n\u001b[1;32m    527\u001b[0m             )\n\u001b[1;32m    528\u001b[0m         \u001b[0;32melse\u001b[0m\u001b[0;34m:\u001b[0m\u001b[0;34m\u001b[0m\u001b[0;34m\u001b[0m\u001b[0m\n\u001b[0;32m--> 529\u001b[0;31m             \u001b[0mobj\u001b[0m \u001b[0;34m=\u001b[0m \u001b[0mself\u001b[0m\u001b[0;34m.\u001b[0m\u001b[0m_get_object_parser\u001b[0m\u001b[0;34m(\u001b[0m\u001b[0mself\u001b[0m\u001b[0;34m.\u001b[0m\u001b[0mdata\u001b[0m\u001b[0;34m)\u001b[0m\u001b[0;34m\u001b[0m\u001b[0;34m\u001b[0m\u001b[0m\n\u001b[0m\u001b[1;32m    530\u001b[0m         \u001b[0mself\u001b[0m\u001b[0;34m.\u001b[0m\u001b[0mclose\u001b[0m\u001b[0;34m(\u001b[0m\u001b[0;34m)\u001b[0m\u001b[0;34m\u001b[0m\u001b[0;34m\u001b[0m\u001b[0m\n\u001b[1;32m    531\u001b[0m         \u001b[0;32mreturn\u001b[0m \u001b[0mobj\u001b[0m\u001b[0;34m\u001b[0m\u001b[0;34m\u001b[0m\u001b[0m\n",
      "\u001b[0;32m~/anaconda3/lib/python3.7/site-packages/pandas/io/json/json.py\u001b[0m in \u001b[0;36m_get_object_parser\u001b[0;34m(self, json)\u001b[0m\n\u001b[1;32m    544\u001b[0m         \u001b[0mobj\u001b[0m \u001b[0;34m=\u001b[0m \u001b[0;32mNone\u001b[0m\u001b[0;34m\u001b[0m\u001b[0;34m\u001b[0m\u001b[0m\n\u001b[1;32m    545\u001b[0m         \u001b[0;32mif\u001b[0m \u001b[0mtyp\u001b[0m \u001b[0;34m==\u001b[0m \u001b[0;34m'frame'\u001b[0m\u001b[0;34m:\u001b[0m\u001b[0;34m\u001b[0m\u001b[0;34m\u001b[0m\u001b[0m\n\u001b[0;32m--> 546\u001b[0;31m             \u001b[0mobj\u001b[0m \u001b[0;34m=\u001b[0m \u001b[0mFrameParser\u001b[0m\u001b[0;34m(\u001b[0m\u001b[0mjson\u001b[0m\u001b[0;34m,\u001b[0m \u001b[0;34m**\u001b[0m\u001b[0mkwargs\u001b[0m\u001b[0;34m)\u001b[0m\u001b[0;34m.\u001b[0m\u001b[0mparse\u001b[0m\u001b[0;34m(\u001b[0m\u001b[0;34m)\u001b[0m\u001b[0;34m\u001b[0m\u001b[0;34m\u001b[0m\u001b[0m\n\u001b[0m\u001b[1;32m    547\u001b[0m \u001b[0;34m\u001b[0m\u001b[0m\n\u001b[1;32m    548\u001b[0m         \u001b[0;32mif\u001b[0m \u001b[0mtyp\u001b[0m \u001b[0;34m==\u001b[0m \u001b[0;34m'series'\u001b[0m \u001b[0;32mor\u001b[0m \u001b[0mobj\u001b[0m \u001b[0;32mis\u001b[0m \u001b[0;32mNone\u001b[0m\u001b[0;34m:\u001b[0m\u001b[0;34m\u001b[0m\u001b[0;34m\u001b[0m\u001b[0m\n",
      "\u001b[0;32m~/anaconda3/lib/python3.7/site-packages/pandas/io/json/json.py\u001b[0m in \u001b[0;36mparse\u001b[0;34m(self)\u001b[0m\n\u001b[1;32m    636\u001b[0m \u001b[0;34m\u001b[0m\u001b[0m\n\u001b[1;32m    637\u001b[0m         \u001b[0;32melse\u001b[0m\u001b[0;34m:\u001b[0m\u001b[0;34m\u001b[0m\u001b[0;34m\u001b[0m\u001b[0m\n\u001b[0;32m--> 638\u001b[0;31m             \u001b[0mself\u001b[0m\u001b[0;34m.\u001b[0m\u001b[0m_parse_no_numpy\u001b[0m\u001b[0;34m(\u001b[0m\u001b[0;34m)\u001b[0m\u001b[0;34m\u001b[0m\u001b[0;34m\u001b[0m\u001b[0m\n\u001b[0m\u001b[1;32m    639\u001b[0m \u001b[0;34m\u001b[0m\u001b[0m\n\u001b[1;32m    640\u001b[0m         \u001b[0;32mif\u001b[0m \u001b[0mself\u001b[0m\u001b[0;34m.\u001b[0m\u001b[0mobj\u001b[0m \u001b[0;32mis\u001b[0m \u001b[0;32mNone\u001b[0m\u001b[0;34m:\u001b[0m\u001b[0;34m\u001b[0m\u001b[0;34m\u001b[0m\u001b[0m\n",
      "\u001b[0;32m~/anaconda3/lib/python3.7/site-packages/pandas/io/json/json.py\u001b[0m in \u001b[0;36m_parse_no_numpy\u001b[0;34m(self)\u001b[0m\n\u001b[1;32m    851\u001b[0m         \u001b[0;32mif\u001b[0m \u001b[0morient\u001b[0m \u001b[0;34m==\u001b[0m \u001b[0;34m\"columns\"\u001b[0m\u001b[0;34m:\u001b[0m\u001b[0;34m\u001b[0m\u001b[0;34m\u001b[0m\u001b[0m\n\u001b[1;32m    852\u001b[0m             self.obj = DataFrame(\n\u001b[0;32m--> 853\u001b[0;31m                 loads(json, precise_float=self.precise_float), dtype=None)\n\u001b[0m\u001b[1;32m    854\u001b[0m         \u001b[0;32melif\u001b[0m \u001b[0morient\u001b[0m \u001b[0;34m==\u001b[0m \u001b[0;34m\"split\"\u001b[0m\u001b[0;34m:\u001b[0m\u001b[0;34m\u001b[0m\u001b[0;34m\u001b[0m\u001b[0m\n\u001b[1;32m    855\u001b[0m             decoded = {str(k): v for k, v in compat.iteritems(\n",
      "\u001b[0;31mValueError\u001b[0m: Expected object or value"
     ]
    }
   ],
   "source": [
    "df = pd.read_json('/data/danield2255/tidy_music.json')\n",
    "song_popularity = pd.read_json('/data/danield2255/song_popularity.json')\n",
    "song_year = pd.read_json('/data/danield2255/song_year.json')\n",
    "song_genres = pd.read_json('/data/danield2255/song_genres.json')\n",
    "song_tempo = pd.read_json('/data/danield2255/song_tempo.json')\n",
    "song_mode = pd.read_json('/data/danield2255/song_mode.json')\n",
    "song_key = pd.read_json('/data/danield2255/song_key.json')\n",
    "song_length = pd.read_json('/data/danield2255/song_length.json')\n",
    "genre_loudness = pd.read_json('/data/danield2255/genre_loudness.json')\n",
    "genre_mode = pd.read_json('/data/danield2255/genre_mode.json')\n",
    "songpop_artistpop = pd.read_json('/data/danield2255/songpop_artistpop.json')"
   ]
  },
  {
   "cell_type": "markdown",
   "metadata": {},
   "source": [
    "### \"What genres of music are most popular?\""
   ]
  },
  {
   "cell_type": "code",
   "execution_count": 10,
   "metadata": {},
   "outputs": [
    {
     "ename": "NameError",
     "evalue": "name 'df' is not defined",
     "output_type": "error",
     "traceback": [
      "\u001b[0;31m---------------------------------------------------------------------------\u001b[0m",
      "\u001b[0;31mNameError\u001b[0m                                 Traceback (most recent call last)",
      "\u001b[0;32m<ipython-input-10-38aaf8eadf2b>\u001b[0m in \u001b[0;36m<module>\u001b[0;34m\u001b[0m\n\u001b[0;32m----> 1\u001b[0;31m \u001b[0mdf\u001b[0m\u001b[0;34m[\u001b[0m\u001b[0;34m'genre'\u001b[0m\u001b[0;34m]\u001b[0m\u001b[0;34m.\u001b[0m\u001b[0mvalue_counts\u001b[0m\u001b[0;34m(\u001b[0m\u001b[0;34m)\u001b[0m\u001b[0;34m\u001b[0m\u001b[0;34m\u001b[0m\u001b[0m\n\u001b[0m",
      "\u001b[0;31mNameError\u001b[0m: name 'df' is not defined"
     ]
    }
   ],
   "source": [
    "df['genre'].value_counts()"
   ]
  },
  {
   "cell_type": "markdown",
   "metadata": {},
   "source": [
    "In looking at the value counts, it is apparant that there are 458 genre categories, with many of these genres even just a single observation. To explore what genres are most popular, we will subset this table to only contain genres with 30 or more observations, as a sample of 30 in statistics is generally acceptable. "
   ]
  },
  {
   "cell_type": "code",
   "execution_count": 4,
   "metadata": {},
   "outputs": [
    {
     "name": "stdout",
     "output_type": "stream",
     "text": [
      "blues-rock             346\n",
      "hip hop                346\n",
      "ccm                    255\n",
      "chanson                208\n",
      "country rock           156\n",
      "latin jazz             150\n",
      "post-grunge            146\n",
      "dance pop              141\n",
      "gangster rap           134\n",
      "roots reggae           131\n",
      "pop rock               130\n",
      "progressive house      119\n",
      "heavy metal             97\n",
      "dancehall               97\n",
      "power pop               94\n",
      "rock                    92\n",
      "chill-out               90\n",
      "salsa                   82\n",
      "jazz funk               80\n",
      "hardcore punk           79\n",
      "lovers rock             76\n",
      "country gospel          75\n",
      "honky tonk              73\n",
      "post-hardcore           72\n",
      "irish folk              70\n",
      "folk-pop                69\n",
      "alternative metal       67\n",
      "dance rock              67\n",
      "soundtrack              65\n",
      "country blues           65\n",
      "                      ... \n",
      "chamber jazz            41\n",
      "europop                 39\n",
      "brazilian pop music     39\n",
      "zydeco                  38\n",
      "dubstep                 38\n",
      "cumbia                  38\n",
      "glam rock               37\n",
      "pop folk                37\n",
      "future jazz             37\n",
      "hard house              36\n",
      "soukous                 36\n",
      "breakbeat               36\n",
      "rock 'n roll            35\n",
      "comedy                  35\n",
      "modern rock             35\n",
      "singer-songwriter       34\n",
      "doo-wop                 34\n",
      "free jazz               34\n",
      "oi                      34\n",
      "roots rock              33\n",
      "happy hardcore          33\n",
      "heartland rock          33\n",
      "soul jazz               31\n",
      "chicago blues           31\n",
      "ska punk                31\n",
      "lullaby                 30\n",
      "rap                     30\n",
      "zouk                    30\n",
      "bossa nova              30\n",
      "reggaeton               30\n",
      "Name: genre, Length: 98, dtype: int64\n",
      "song_hotness    6616\n",
      "song_id         6616\n",
      "genre           6616\n",
      "dtype: int64\n"
     ]
    }
   ],
   "source": [
    "genre_popularity= song_popularity.merge(song_genres, on = 'song_id')\n",
    "genre_popularity = genre_popularity.groupby('genre').filter(lambda x: len(x) >= 30)\n",
    "print(genre_popularity['genre'].value_counts())\n",
    "print(genre_popularity.count())"
   ]
  },
  {
   "cell_type": "markdown",
   "metadata": {},
   "source": [
    "We now have observations from 98 genres, 6616 observations total, and this should be a bit more appropriate to compare statistics on. "
   ]
  },
  {
   "cell_type": "code",
   "execution_count": 5,
   "metadata": {
    "collapsed": true
   },
   "outputs": [],
   "source": [
    "genre_avg_popularity = genre_popularity.groupby('genre')['song_hotness'].mean()\n",
    "genre_avg_popularity= genre_avg_popularity.sort_values(ascending=False).to_frame()\n",
    "genre_avg_popularity = pd.DataFrame(genre_avg_popularity.reset_index())"
   ]
  },
  {
   "cell_type": "code",
   "execution_count": 3,
   "metadata": {},
   "outputs": [
    {
     "ename": "NameError",
     "evalue": "name 'genre_avg_popularity' is not defined",
     "output_type": "error",
     "traceback": [
      "\u001b[0;31m---------------------------------------------------------------------------\u001b[0m",
      "\u001b[0;31mNameError\u001b[0m                                 Traceback (most recent call last)",
      "\u001b[0;32m<ipython-input-3-401a88f10dce>\u001b[0m in \u001b[0;36m<module>\u001b[0;34m\u001b[0m\n\u001b[0;32m----> 1\u001b[0;31m \u001b[0mgraph\u001b[0m \u001b[0;34m=\u001b[0m \u001b[0mgenre_avg_popularity\u001b[0m\u001b[0;34m.\u001b[0m\u001b[0mhead\u001b[0m\u001b[0;34m(\u001b[0m\u001b[0;36m100\u001b[0m\u001b[0;34m)\u001b[0m\u001b[0;34m.\u001b[0m\u001b[0mplot\u001b[0m\u001b[0;34m(\u001b[0m\u001b[0mkind\u001b[0m\u001b[0;34m=\u001b[0m\u001b[0;34m'bar'\u001b[0m\u001b[0;34m,\u001b[0m \u001b[0mfigsize\u001b[0m \u001b[0;34m=\u001b[0m \u001b[0;34m(\u001b[0m\u001b[0;36m20\u001b[0m\u001b[0;34m,\u001b[0m \u001b[0;36m5\u001b[0m\u001b[0;34m)\u001b[0m\u001b[0;34m,\u001b[0m \u001b[0mtitle\u001b[0m \u001b[0;34m=\u001b[0m \u001b[0;34m'Average Song Hotness by Genre'\u001b[0m\u001b[0;34m)\u001b[0m\u001b[0;34m\u001b[0m\u001b[0;34m\u001b[0m\u001b[0m\n\u001b[0m\u001b[1;32m      2\u001b[0m \u001b[0mgraph\u001b[0m\u001b[0;34m.\u001b[0m\u001b[0mset_xticklabels\u001b[0m\u001b[0;34m(\u001b[0m\u001b[0mgenre_avg_popularity\u001b[0m\u001b[0;34m[\u001b[0m\u001b[0;34m'genre'\u001b[0m\u001b[0;34m]\u001b[0m\u001b[0;34m.\u001b[0m\u001b[0mvalues\u001b[0m\u001b[0;34m[\u001b[0m\u001b[0;36m0\u001b[0m\u001b[0;34m:\u001b[0m\u001b[0;36m100\u001b[0m\u001b[0;34m]\u001b[0m\u001b[0;34m)\u001b[0m\u001b[0;34m\u001b[0m\u001b[0;34m\u001b[0m\u001b[0m\n\u001b[1;32m      3\u001b[0m \u001b[0mgraph\u001b[0m\u001b[0;34m.\u001b[0m\u001b[0mset_xlabel\u001b[0m\u001b[0;34m(\u001b[0m\u001b[0;34m'Genre'\u001b[0m\u001b[0;34m)\u001b[0m\u001b[0;34m\u001b[0m\u001b[0;34m\u001b[0m\u001b[0m\n\u001b[1;32m      4\u001b[0m \u001b[0mgraph\u001b[0m\u001b[0;34m.\u001b[0m\u001b[0mset_ylabel\u001b[0m\u001b[0;34m(\u001b[0m\u001b[0;34m'Average Song Hotness'\u001b[0m\u001b[0;34m)\u001b[0m\u001b[0;34m\u001b[0m\u001b[0;34m\u001b[0m\u001b[0m\n",
      "\u001b[0;31mNameError\u001b[0m: name 'genre_avg_popularity' is not defined"
     ]
    }
   ],
   "source": [
    "graph = genre_avg_popularity.head(100).plot(kind='bar', figsize = (20, 5), title = 'Average Song Hotness by Genre')\n",
    "graph.set_xticklabels(genre_avg_popularity['genre'].values[0:100])\n",
    "graph.set_xlabel('Genre')\n",
    "graph.set_ylabel('Average Song Hotness')\n"
   ]
  },
  {
   "cell_type": "markdown",
   "metadata": {},
   "source": [
    "The visualization reveals that among the genres with the greatest average song hotness include alternative metal, post-hardcore, and grunge. Meanwhile some less popular genres include opera, pop folk, and cantonese pop."
   ]
  },
  {
   "cell_type": "markdown",
   "metadata": {},
   "source": [
    "### \"What genres have been most popular over time, and what genres have become popular in the modern era?\""
   ]
  },
  {
   "cell_type": "markdown",
   "metadata": {},
   "source": [
    "Because what is currently popular is always changing, it is likely a good idea to look at popular genres over time. We will also exclude observations with no recorded release year for this, as well as years with less than 10 observations and less than 5 observations in each genre for that year. "
   ]
  },
  {
   "cell_type": "code",
   "execution_count": 8,
   "metadata": {},
   "outputs": [
    {
     "ename": "NameError",
     "evalue": "name 'song_popularity' is not defined",
     "output_type": "error",
     "traceback": [
      "\u001b[0;31m---------------------------------------------------------------------------\u001b[0m",
      "\u001b[0;31mNameError\u001b[0m                                 Traceback (most recent call last)",
      "\u001b[0;32m<ipython-input-8-b62ced92febc>\u001b[0m in \u001b[0;36m<module>\u001b[0;34m\u001b[0m\n\u001b[0;32m----> 1\u001b[0;31m \u001b[0mgpop_by_year\u001b[0m \u001b[0;34m=\u001b[0m \u001b[0msong_popularity\u001b[0m\u001b[0;34m.\u001b[0m\u001b[0mmerge\u001b[0m\u001b[0;34m(\u001b[0m\u001b[0msong_year\u001b[0m\u001b[0;34m,\u001b[0m \u001b[0mon\u001b[0m \u001b[0;34m=\u001b[0m \u001b[0;34m'song_id'\u001b[0m\u001b[0;34m)\u001b[0m\u001b[0;34m.\u001b[0m\u001b[0mmerge\u001b[0m\u001b[0;34m(\u001b[0m\u001b[0msong_genres\u001b[0m\u001b[0;34m,\u001b[0m \u001b[0mon\u001b[0m \u001b[0;34m=\u001b[0m \u001b[0;34m'song_id'\u001b[0m\u001b[0;34m)\u001b[0m\u001b[0;34m\u001b[0m\u001b[0;34m\u001b[0m\u001b[0m\n\u001b[0m\u001b[1;32m      2\u001b[0m \u001b[0mgpop_by_year\u001b[0m \u001b[0;34m=\u001b[0m \u001b[0mgpop_by_year\u001b[0m\u001b[0;34m.\u001b[0m\u001b[0mdropna\u001b[0m\u001b[0;34m(\u001b[0m\u001b[0;34m)\u001b[0m\u001b[0;34m\u001b[0m\u001b[0;34m\u001b[0m\u001b[0m\n\u001b[1;32m      3\u001b[0m \u001b[0mgpop_by_year\u001b[0m \u001b[0;34m=\u001b[0m \u001b[0mgpop_by_year\u001b[0m\u001b[0;34m.\u001b[0m\u001b[0mgroupby\u001b[0m\u001b[0;34m(\u001b[0m\u001b[0;34m'release_year'\u001b[0m\u001b[0;34m)\u001b[0m\u001b[0;34m.\u001b[0m\u001b[0mfilter\u001b[0m\u001b[0;34m(\u001b[0m\u001b[0;32mlambda\u001b[0m \u001b[0mx\u001b[0m\u001b[0;34m:\u001b[0m \u001b[0mlen\u001b[0m\u001b[0;34m(\u001b[0m\u001b[0mx\u001b[0m\u001b[0;34m)\u001b[0m \u001b[0;34m>=\u001b[0m \u001b[0;36m10\u001b[0m\u001b[0;34m)\u001b[0m\u001b[0;34m\u001b[0m\u001b[0;34m\u001b[0m\u001b[0m\n\u001b[1;32m      4\u001b[0m \u001b[0mgpop_by_year\u001b[0m \u001b[0;34m=\u001b[0m\u001b[0mgpop_by_year\u001b[0m\u001b[0;34m.\u001b[0m\u001b[0mgroupby\u001b[0m\u001b[0;34m(\u001b[0m\u001b[0;34m[\u001b[0m\u001b[0;34m'release_year'\u001b[0m\u001b[0;34m,\u001b[0m \u001b[0;34m'genre'\u001b[0m\u001b[0;34m]\u001b[0m\u001b[0;34m)\u001b[0m\u001b[0;34m.\u001b[0m\u001b[0mfilter\u001b[0m\u001b[0;34m(\u001b[0m\u001b[0;32mlambda\u001b[0m \u001b[0mx\u001b[0m\u001b[0;34m:\u001b[0m \u001b[0mlen\u001b[0m\u001b[0;34m(\u001b[0m\u001b[0mx\u001b[0m\u001b[0;34m)\u001b[0m \u001b[0;34m>=\u001b[0m \u001b[0;36m5\u001b[0m\u001b[0;34m)\u001b[0m\u001b[0;34m\u001b[0m\u001b[0;34m\u001b[0m\u001b[0m\n\u001b[1;32m      5\u001b[0m \u001b[0mgpop_by_year\u001b[0m \u001b[0;34m=\u001b[0m \u001b[0mgpop_by_year\u001b[0m\u001b[0;34m.\u001b[0m\u001b[0mgroupby\u001b[0m\u001b[0;34m(\u001b[0m\u001b[0;34m[\u001b[0m\u001b[0;34m'release_year'\u001b[0m\u001b[0;34m,\u001b[0m \u001b[0;34m'genre'\u001b[0m\u001b[0;34m]\u001b[0m\u001b[0;34m)\u001b[0m\u001b[0;34m[\u001b[0m\u001b[0;34m'song_hotness'\u001b[0m\u001b[0;34m]\u001b[0m\u001b[0;34m.\u001b[0m\u001b[0mmean\u001b[0m\u001b[0;34m(\u001b[0m\u001b[0;34m)\u001b[0m\u001b[0;34m.\u001b[0m\u001b[0munstack\u001b[0m\u001b[0;34m(\u001b[0m\u001b[0;34m)\u001b[0m\u001b[0;34m\u001b[0m\u001b[0;34m\u001b[0m\u001b[0m\n",
      "\u001b[0;31mNameError\u001b[0m: name 'song_popularity' is not defined"
     ]
    }
   ],
   "source": [
    "gpop_by_year = song_popularity.merge(song_year, on = 'song_id').merge(song_genres, on = 'song_id')\n",
    "gpop_by_year = gpop_by_year.dropna()\n",
    "gpop_by_year = gpop_by_year.groupby('release_year').filter(lambda x: len(x) >= 10)\n",
    "gpop_by_year =gpop_by_year.groupby(['release_year', 'genre']).filter(lambda x: len(x) >= 5)\n",
    "gpop_by_year = gpop_by_year.groupby(['release_year', 'genre'])['song_hotness'].mean().unstack()\n",
    "plt.figure(figsize = (16,15))\n",
    "fig = sns.heatmap(gpop_by_year.transpose(), cmap = 'YlGnBu', cbar_kws={'label': 'Average Song Hotness'}, linecolor = 'black', linewidths=0.9)\n",
    "fig.set(xlabel='Release Year', ylabel='Genre', title = 'Average Song Hotness for Various Genres By Year')"
   ]
  },
  {
   "cell_type": "markdown",
   "metadata": {},
   "source": [
    "The information conveyed in the heatmap makes intuitive sense as it is easy to justify the popularity of various genres in different eras. Blues rock has had steady popularity from the 1970's through to current day. As music became more and more commercialized with the onset of MTV, file sharing formats, and the internet, pop and dance oriented music gained popularity . Also after the grunge movement, genres like post grunge and post-hardcore helped dominate the rock scene. Finally, various rap genres and hip-hop moved into the mainstream in the late 1990's and early 2000's due to the creation of more and more advanced synthesizers and the maturing nature of hip-hop as a genre."
   ]
  },
  {
   "cell_type": "markdown",
   "metadata": {},
   "source": [
    "**NOTE**: It is important to remember here that as time went on, more and more music was produced which may explain why there is greater representation of data from the 90's and 2000's. Also this data was a subset of 10,000 songs from a million song dataset, so it is very possible the sample simply pulled more data from this era. "
   ]
  },
  {
   "cell_type": "markdown",
   "metadata": {},
   "source": [
    "### \"Is song length associated with song popularity?\""
   ]
  },
  {
   "cell_type": "code",
   "execution_count": 8,
   "metadata": {},
   "outputs": [
    {
     "data": {
      "text/html": [
       "<div>\n",
       "<style scoped>\n",
       "    .dataframe tbody tr th:only-of-type {\n",
       "        vertical-align: middle;\n",
       "    }\n",
       "\n",
       "    .dataframe tbody tr th {\n",
       "        vertical-align: top;\n",
       "    }\n",
       "\n",
       "    .dataframe thead th {\n",
       "        text-align: right;\n",
       "    }\n",
       "</style>\n",
       "<table border=\"1\" class=\"dataframe\">\n",
       "  <thead>\n",
       "    <tr style=\"text-align: right;\">\n",
       "      <th></th>\n",
       "      <th>song_hotness</th>\n",
       "      <th>duration</th>\n",
       "    </tr>\n",
       "  </thead>\n",
       "  <tbody>\n",
       "    <tr>\n",
       "      <th>count</th>\n",
       "      <td>10000.000000</td>\n",
       "      <td>10000.000000</td>\n",
       "    </tr>\n",
       "    <tr>\n",
       "      <th>mean</th>\n",
       "      <td>0.193626</td>\n",
       "      <td>240.622038</td>\n",
       "    </tr>\n",
       "    <tr>\n",
       "      <th>std</th>\n",
       "      <td>0.251809</td>\n",
       "      <td>246.084090</td>\n",
       "    </tr>\n",
       "    <tr>\n",
       "      <th>min</th>\n",
       "      <td>0.000000</td>\n",
       "      <td>1.044440</td>\n",
       "    </tr>\n",
       "    <tr>\n",
       "      <th>25%</th>\n",
       "      <td>0.000000</td>\n",
       "      <td>176.032200</td>\n",
       "    </tr>\n",
       "    <tr>\n",
       "      <th>50%</th>\n",
       "      <td>0.000000</td>\n",
       "      <td>223.059140</td>\n",
       "    </tr>\n",
       "    <tr>\n",
       "      <th>75%</th>\n",
       "      <td>0.405116</td>\n",
       "      <td>276.375060</td>\n",
       "    </tr>\n",
       "    <tr>\n",
       "      <th>max</th>\n",
       "      <td>1.000000</td>\n",
       "      <td>22050.000000</td>\n",
       "    </tr>\n",
       "  </tbody>\n",
       "</table>\n",
       "</div>"
      ],
      "text/plain": [
       "       song_hotness      duration\n",
       "count  10000.000000  10000.000000\n",
       "mean       0.193626    240.622038\n",
       "std        0.251809    246.084090\n",
       "min        0.000000      1.044440\n",
       "25%        0.000000    176.032200\n",
       "50%        0.000000    223.059140\n",
       "75%        0.405116    276.375060\n",
       "max        1.000000  22050.000000"
      ]
     },
     "execution_count": 8,
     "metadata": {},
     "output_type": "execute_result"
    }
   ],
   "source": [
    "length_popularity = song_popularity.merge(song_length, on = 'song_id')\n",
    "length_popularity.describe()"
   ]
  },
  {
   "cell_type": "markdown",
   "metadata": {},
   "source": [
    "The summary indicated a significantly greater outlier for duration, so it is removed in the next step."
   ]
  },
  {
   "cell_type": "code",
   "execution_count": 9,
   "metadata": {
    "collapsed": true
   },
   "outputs": [],
   "source": [
    "length_popularity= length_popularity.loc[length_popularity.duration < 5000]"
   ]
  },
  {
   "cell_type": "code",
   "execution_count": 10,
   "metadata": {},
   "outputs": [
    {
     "data": {
      "image/png": "[encoded data removed]",
      "text/plain": [
       "<matplotlib.figure.Figure at 0x7f3533d1c358>"
      ]
     },
     "metadata": {},
     "output_type": "display_data"
    }
   ],
   "source": [
    "plt.scatter('duration', 'song_hotness', data = length_popularity)\n",
    "plt.xlabel('Song Duration (Seconds)')\n",
    "plt.ylabel('Song Hotness')\n",
    "plt.title('Song Hotness Versus Duration')\n",
    "plt.show()"
   ]
  },
  {
   "cell_type": "markdown",
   "metadata": {},
   "source": [
    "The visualization reveals that song duration alone does not have an extremely strong relationship with song hotness. However, the observations with the highest song hotness have durations of around 250 seconds long, and this makes intuitive sense as most songs on the radio, which get more publicity, are around this length of just over 4 minutes. "
   ]
  },
  {
   "cell_type": "markdown",
   "metadata": {},
   "source": [
    "### \"What are the most popular song keys and modes?\""
   ]
  },
  {
   "cell_type": "markdown",
   "metadata": {},
   "source": [
    "The dataset classifies major or minor tonality of a song in the 'mode' variable. The following blocks of code split the data into separate datasets by mode, then measures the average song popularity rating for songs in each musical key. "
   ]
  },
  {
   "cell_type": "code",
   "execution_count": 11,
   "metadata": {
    "collapsed": true
   },
   "outputs": [],
   "source": [
    "key_mode_pop = song_popularity.merge(song_key, on = 'song_id').merge(song_mode, on = 'song_id')"
   ]
  },
  {
   "cell_type": "code",
   "execution_count": 12,
   "metadata": {
    "collapsed": true
   },
   "outputs": [],
   "source": [
    "key_pop_major = key_mode_pop.loc[key_mode_pop['mode'] == 'Major']\n",
    "key_pop_minor = key_mode_pop.loc[key_mode_pop['mode'] == 'Minor']"
   ]
  },
  {
   "cell_type": "code",
   "execution_count": 13,
   "metadata": {},
   "outputs": [
    {
     "data": {
      "image/png": "[encoded data removed]",
      "text/plain": [
       "<matplotlib.figure.Figure at 0x7f3533a560b8>"
      ]
     },
     "metadata": {},
     "output_type": "display_data"
    }
   ],
   "source": [
    "x_axis = key_pop_major['key'].unique()\n",
    "temp = np.arange(len(x_axis))\n",
    "y_axis = key_pop_major.groupby('key')['song_hotness'].mean()\n",
    "plt.bar(temp, y_axis)\n",
    "plt.xticks(temp, x_axis)\n",
    "plt.xlabel('Key')\n",
    "plt.ylabel('Average Song Hotness')\n",
    "plt.title('Song Hotness by Key For Major Mode Songs')\n",
    "plt.show()"
   ]
  },
  {
   "cell_type": "code",
   "execution_count": 14,
   "metadata": {},
   "outputs": [
    {
     "data": {
      "image/png": "[encoded data removed]",
      "text/plain": [
       "<matplotlib.figure.Figure at 0x7f35338b70f0>"
      ]
     },
     "metadata": {},
     "output_type": "display_data"
    }
   ],
   "source": [
    "key_pop_minor = key_pop_minor[key_pop_minor.key != 904.80281]\n",
    "#There was a invalid key value in the minor subset of data that needed to be removed\n",
    "x_axis2 = key_pop_minor['key'].unique()\n",
    "temp2 = np.arange(len(x_axis2))\n",
    "y_axis2 = key_pop_minor.groupby('key')['song_hotness'].mean()\n",
    "alt.Chart()\n",
    "plt.bar(temp2, y_axis2)\n",
    "plt.xticks(temp2, x_axis2)\n",
    "plt.xlabel('Key')\n",
    "plt.ylabel('Average Song Hotness')\n",
    "plt.title('Song Hotness by Key For Minor Mode Songs')\n",
    "plt.show()"
   ]
  },
  {
   "cell_type": "markdown",
   "metadata": {},
   "source": [
    "In major modes, average song hotness by key suggests the most popular key is A#, but it is worth noting that there is very little variation between the keys. It appears that in the minor mode the most popular keys according to average song hotness are F and C. Also there is more variation in the average popularity of songs between musical keys in the minor mode than in the major mode."
   ]
  },
  {
   "cell_type": "markdown",
   "metadata": {},
   "source": [
    "### \"What are the most popular tempos for songs?\""
   ]
  },
  {
   "cell_type": "code",
   "execution_count": 15,
   "metadata": {},
   "outputs": [
    {
     "data": {
      "image/png": "[encoded data removed]",
      "text/plain": [
       "<matplotlib.figure.Figure at 0x7f3533a5d358>"
      ]
     },
     "metadata": {},
     "output_type": "display_data"
    }
   ],
   "source": [
    "tempo_pop = song_popularity.merge(song_tempo, on = 'song_id')\n",
    "plt.scatter('tempo', 'song_hotness', data = tempo_pop)\n",
    "plt.xlabel('Song Tempo (Beats per Minute)')\n",
    "plt.ylabel('Song Hotness')\n",
    "plt.title('Song Hotness Versus Tempo')\n",
    "plt.show()"
   ]
  },
  {
   "cell_type": "markdown",
   "metadata": {},
   "source": [
    "The plot of song hotness versus tempo does not really establish a strong correlation between the two, suggesting that songs from a wide range of tempos have the potential to be popular. The most popular songs in the dataset however, are between 90 and 150 beats per minute."
   ]
  },
  {
   "cell_type": "markdown",
   "metadata": {},
   "source": [
    "### \"Does loudness vary between genres?\""
   ]
  },
  {
   "cell_type": "code",
   "execution_count": 16,
   "metadata": {
    "collapsed": true
   },
   "outputs": [],
   "source": [
    "genre_loudness = genre_loudness.groupby('genre').filter(lambda x: len(x) >= 30)\n",
    "genre_loudness = genre_loudness.groupby('genre')['loudness'].mean().reset_index()"
   ]
  },
  {
   "cell_type": "code",
   "execution_count": 17,
   "metadata": {},
   "outputs": [
    {
     "data": {
      "application/vnd.vegalite.v2+json": {
       "$schema": "https://vega.github.io/schema/vega-lite/v2.json",
       "config": {
        "view": {
         "height": 300,
         "width": 400
        }
       },
       "data": {
        "values": [
         {
          "genre": "alternative metal",
          "loudness": -5.936656716417911
         },
         {
          "genre": "ballad",
          "loudness": -10.67976595744681
         },
         {
          "genre": "black metal",
          "loudness": -5.842937500000001
         },
         {
          "genre": "blue-eyed soul",
          "loudness": -10.741933333333334
         },
         {
          "genre": "bluegrass",
          "loudness": -10.826458333333333
         },
         {
          "genre": "blues",
          "loudness": -10.242101694915252
         },
         {
          "genre": "blues-rock",
          "loudness": -9.716618497109833
         },
         {
          "genre": "bossa nova",
          "loudness": -13.823533333333334
         },
         {
          "genre": "brazilian pop music",
          "loudness": -12.677000000000003
         },
         {
          "genre": "breakbeat",
          "loudness": -7.999083333333336
         },
         {
          "genre": "brill building pop",
          "loudness": -11.369812500000004
         },
         {
          "genre": "british pop",
          "loudness": -9.018422222222226
         },
         {
          "genre": "cantonese pop",
          "loudness": -9.373000000000001
         },
         {
          "genre": "ccm",
          "loudness": -10.833466666666661
         },
         {
          "genre": "chamber jazz",
          "loudness": -20.33724390243902
         },
         {
          "genre": "chanson",
          "loudness": -11.156072115384616
         },
         {
          "genre": "chicago blues",
          "loudness": -13.545645161290324
         },
         {
          "genre": "chicago soul",
          "loudness": -11.696804347826085
         },
         {
          "genre": "chill-out",
          "loudness": -13.623966666666668
         },
         {
          "genre": "chinese music",
          "loudness": -9.803456140350876
         },
         {
          "genre": "comedy",
          "loudness": -13.093057142857145
         },
         {
          "genre": "country",
          "loudness": -10.269690476190478
         },
         {
          "genre": "country blues",
          "loudness": -16.90724615384615
         },
         {
          "genre": "country gospel",
          "loudness": -12.427813333333335
         },
         {
          "genre": "country rock",
          "loudness": -11.564801282051286
         },
         {
          "genre": "cumbia",
          "loudness": -8.933605263157894
         },
         {
          "genre": "dance pop",
          "loudness": -7.915439716312057
         },
         {
          "genre": "dance rock",
          "loudness": -8.928328358208953
         },
         {
          "genre": "dancehall",
          "loudness": -8.579195876288662
         },
         {
          "genre": "delta blues",
          "loudness": -14.761173913043484
         },
         {
          "genre": "disco",
          "loudness": -10.670729166666666
         },
         {
          "genre": "doo-wop",
          "loudness": -11.340911764705881
         },
         {
          "genre": "dubstep",
          "loudness": -9.08052631578947
         },
         {
          "genre": "easy listening",
          "loudness": -16.002292307692308
         },
         {
          "genre": "europop",
          "loudness": -8.462230769230768
         },
         {
          "genre": "experimental rock",
          "loudness": -11.40826
         },
         {
          "genre": "flamenco",
          "loudness": -9.352107142857141
         },
         {
          "genre": "folk rock",
          "loudness": -12.368285714285715
         },
         {
          "genre": "folk-pop",
          "loudness": -12.234623188405799
         },
         {
          "genre": "free jazz",
          "loudness": -18.83479411764706
         },
         {
          "genre": "future jazz",
          "loudness": -10.640027027027026
         },
         {
          "genre": "gangster rap",
          "loudness": -7.37257462686567
         },
         {
          "genre": "glam rock",
          "loudness": -9.745810810810811
         },
         {
          "genre": "grunge",
          "loudness": -8.266874999999999
         },
         {
          "genre": "happy hardcore",
          "loudness": -7.647878787878788
         },
         {
          "genre": "hard house",
          "loudness": -9.057194444444443
         },
         {
          "genre": "hard rock",
          "loudness": -8.709645161290325
         },
         {
          "genre": "hard trance",
          "loudness": -7.953243902439025
         },
         {
          "genre": "hardcore punk",
          "loudness": -6.617113924050634
         },
         {
          "genre": "heartland rock",
          "loudness": -10.200848484848482
         },
         {
          "genre": "heavy metal",
          "loudness": -7.726443298969073
         },
         {
          "genre": "hip hop",
          "loudness": -8.413075144508664
         },
         {
          "genre": "honky tonk",
          "loudness": -13.045958904109586
         },
         {
          "genre": "indie rock",
          "loudness": -7.9083571428571435
         },
         {
          "genre": "instrumental pop",
          "loudness": -15.782195121951224
         },
         {
          "genre": "irish folk",
          "loudness": -15.164200000000003
         },
         {
          "genre": "jazz funk",
          "loudness": -12.455637500000002
         },
         {
          "genre": "latin jazz",
          "loudness": -13.516806666666675
         },
         {
          "genre": "los angeles",
          "loudness": -10.752622222222222
         },
         {
          "genre": "lovers rock",
          "loudness": -9.77759210526316
         },
         {
          "genre": "lullaby",
          "loudness": -14.273200000000003
         },
         {
          "genre": "meditation",
          "loudness": -18.78301960784314
         },
         {
          "genre": "modern rock",
          "loudness": -10.314485714285716
         },
         {
          "genre": "new wave",
          "loudness": -9.997045454545452
         },
         {
          "genre": "oi",
          "loudness": -7.078617647058825
         },
         {
          "genre": "opera",
          "loudness": -19.432804878048785
         },
         {
          "genre": "orchestra",
          "loudness": -15.087452380952376
         },
         {
          "genre": "pop folk",
          "loudness": -7.988189189189189
         },
         {
          "genre": "pop rap",
          "loudness": -7.138677966101695
         },
         {
          "genre": "pop rock",
          "loudness": -9.596369230769232
         },
         {
          "genre": "post-grunge",
          "loudness": -7.258520547945205
         },
         {
          "genre": "post-hardcore",
          "loudness": -6.062805555555556
         },
         {
          "genre": "power pop",
          "loudness": -8.62122340425532
         },
         {
          "genre": "progressive house",
          "loudness": -9.218714285714292
         },
         {
          "genre": "rap",
          "loudness": -8.282099999999998
         },
         {
          "genre": "reggae",
          "loudness": -9.368826923076925
         },
         {
          "genre": "reggaeton",
          "loudness": -7.913833333333335
         },
         {
          "genre": "rock",
          "loudness": -10.032347826086953
         },
         {
          "genre": "rock 'n roll",
          "loudness": -10.909857142857142
         },
         {
          "genre": "roots reggae",
          "loudness": -10.165175572519084
         },
         {
          "genre": "roots rock",
          "loudness": -9.940393939393942
         },
         {
          "genre": "salsa",
          "loudness": -8.595817073170732
         },
         {
          "genre": "samba",
          "loudness": -13.964931818181817
         },
         {
          "genre": "singer-songwriter",
          "loudness": -11.10764705882353
         },
         {
          "genre": "ska punk",
          "loudness": -6.596935483870968
         },
         {
          "genre": "smooth jazz",
          "loudness": -12.280448275862074
         },
         {
          "genre": "soft rock",
          "loudness": -10.473055555555554
         },
         {
          "genre": "soukous",
          "loudness": -9.54716666666667
         },
         {
          "genre": "soul jazz",
          "loudness": -12.926774193548386
         },
         {
          "genre": "soundtrack",
          "loudness": -20.104292307692305
         },
         {
          "genre": "southern gospel",
          "loudness": -10.89696
         },
         {
          "genre": "tech house",
          "loudness": -10.164399999999999
         },
         {
          "genre": "tejano",
          "loudness": -8.447642857142856
         },
         {
          "genre": "texas blues",
          "loudness": -13.255212765957447
         },
         {
          "genre": "trip hop",
          "loudness": -10.775524590163934
         },
         {
          "genre": "western swing",
          "loudness": -15.000539682539678
         },
         {
          "genre": "zouk",
          "loudness": -7.972933333333332
         },
         {
          "genre": "zydeco",
          "loudness": -10.59026315789474
         }
        ]
       },
       "encoding": {
        "x": {
         "axis": {
          "title": "Genre"
         },
         "field": "genre",
         "sort": {
          "field": "loudness",
          "op": "sum",
          "order": "descending"
         },
         "type": "nominal"
        },
        "y": {
         "axis": {
          "title": "Average Peak Decibel Level (dbfs)"
         },
         "field": "loudness",
         "type": "quantitative"
        }
       },
       "mark": "line"
      },
      "text/plain": [
       "<VegaLite 2 object>"
      ]
     },
     "execution_count": 17,
     "metadata": {},
     "output_type": "execute_result"
    }
   ],
   "source": [
    "alt.Chart(genre_loudness).mark_line().encode(\n",
    "alt.X('genre', axis = alt.Axis(title=\"Genre\"),sort=alt.SortField(field = 'loudness', op='sum', order= 'descending')), \n",
    "alt.Y('loudness', axis = alt.Axis(title=\"Average Peak Decibel Level (dbfs)\")))"
   ]
  },
  {
   "cell_type": "markdown",
   "metadata": {},
   "source": [
    "The above visualization measures the average peak decibel level for each genre. Peak decibel is measured on a negative scale with 0 as a maximum.\n",
    "\n",
    "There is a clear difference in loudness betweeen genres, and it makes intuitive sense. Genres like black metal, alternative metal, and post-hardcore among other similar intense genres have the highest average peak decibel levels. Meanwhile opera, soundtrack, chamber jazz, and other softer genres have the lower peak decibel levels. While this does not directly predict song popularity, it suggests that different genres are associated with varying loudness. "
   ]
  },
  {
   "cell_type": "markdown",
   "metadata": {},
   "source": [
    "### \"Is an artist's popularity related to song popularity?\""
   ]
  },
  {
   "cell_type": "code",
   "execution_count": 18,
   "metadata": {},
   "outputs": [
    {
     "data": {
      "image/png": "[encoded data removed]",
      "text/plain": [
       "<matplotlib.figure.Figure at 0x7f35337b6e80>"
      ]
     },
     "metadata": {},
     "output_type": "display_data"
    }
   ],
   "source": [
    "lin_params = np.polyfit(songpop_artistpop['artist_hotness'], songpop_artistpop['song_hotness'], deg = 1)\n",
    "slope=lin_params[0]\n",
    "lin_intercept=lin_params[1]\n",
    "fig, ax = plt.subplots()\n",
    "ax.scatter('artist_hotness', 'song_hotness', data=songpop_artistpop)\n",
    "ax.plot(x=songpop_artistpop['artist_hotness'], y=(slope*songpop_artistpop['song_hotness'] + lin_intercept))\n",
    "plt.xlabel('Artist Hotness')\n",
    "plt.ylabel('Song Hotness')\n",
    "plt.title('Atrist Hotness Versus Song Hotness')\n",
    "plt.show()"
   ]
  },
  {
   "cell_type": "markdown",
   "metadata": {},
   "source": [
    "The plot of artist hotness versus song hotness shows a potential positive correlation. This also makes intuitive sense as a popular artist will generally get greater exposure, thus have a higher likelihood of their songs gaining popularity. "
   ]
  },
  {
   "cell_type": "code",
   "execution_count": null,
   "metadata": {
    "collapsed": true
   },
   "outputs": [],
   "source": []
  }
 ],
 "metadata": {
  "kernelspec": {
   "display_name": "Python 3",
   "language": "python",
   "name": "python3"
  },
  "language_info": {
   "codemirror_mode": {
    "name": "ipython",
    "version": 3
   },
   "file_extension": ".py",
   "mimetype": "text/x-python",
   "name": "python",
   "nbconvert_exporter": "python",
   "pygments_lexer": "ipython3",
   "version": "3.7.1"
  }
 },
 "nbformat": 4,
 "nbformat_minor": 2
}
