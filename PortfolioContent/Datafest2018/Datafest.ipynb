{
 "cells": [
  {
   "cell_type": "code",
   "execution_count": 47,
   "metadata": {
    "collapsed": true
   },
   "outputs": [],
   "source": [
    "import pandas as pd\n",
    "import requests\n",
    "from bs4 import BeautifulSoup\n",
    "import re"
   ]
  },
  {
   "cell_type": "markdown",
   "metadata": {},
   "source": [
    "Inspect the indeed dataset. "
   ]
  },
  {
   "cell_type": "code",
   "execution_count": 6,
   "metadata": {
    "collapsed": true
   },
   "outputs": [],
   "source": [
    "indeed_data = pd.read_csv(\"data_sub.csv\").drop([\"Unnamed: 0\"], axis = 1)"
   ]
  },
  {
   "cell_type": "code",
   "execution_count": 7,
   "metadata": {},
   "outputs": [
    {
     "data": {
      "text/html": [
       "<div>\n",
       "<style scoped>\n",
       "    .dataframe tbody tr th:only-of-type {\n",
       "        vertical-align: middle;\n",
       "    }\n",
       "\n",
       "    .dataframe tbody tr th {\n",
       "        vertical-align: top;\n",
       "    }\n",
       "\n",
       "    .dataframe thead th {\n",
       "        text-align: right;\n",
       "    }\n",
       "</style>\n",
       "<table border=\"1\" class=\"dataframe\">\n",
       "  <thead>\n",
       "    <tr style=\"text-align: right;\">\n",
       "      <th></th>\n",
       "      <th>date</th>\n",
       "      <th>companyId</th>\n",
       "      <th>jobId</th>\n",
       "      <th>country</th>\n",
       "      <th>stateProvince</th>\n",
       "      <th>city</th>\n",
       "      <th>avgOverallRating</th>\n",
       "      <th>numReviews</th>\n",
       "      <th>industry</th>\n",
       "      <th>normTitle</th>\n",
       "      <th>...</th>\n",
       "      <th>experienceRequired</th>\n",
       "      <th>estimatedSalary</th>\n",
       "      <th>salaryCurrency</th>\n",
       "      <th>jobLanguage</th>\n",
       "      <th>supervisingJob</th>\n",
       "      <th>licenseRequiredJob</th>\n",
       "      <th>educationRequirements</th>\n",
       "      <th>jobAgeDays</th>\n",
       "      <th>clicks</th>\n",
       "      <th>localClicks</th>\n",
       "    </tr>\n",
       "  </thead>\n",
       "  <tbody>\n",
       "    <tr>\n",
       "      <th>0</th>\n",
       "      <td>2016-11-01</td>\n",
       "      <td>company00194</td>\n",
       "      <td>job0000208</td>\n",
       "      <td>US</td>\n",
       "      <td>TX</td>\n",
       "      <td>Odessa</td>\n",
       "      <td>0.0</td>\n",
       "      <td>NaN</td>\n",
       "      <td>NaN</td>\n",
       "      <td>security officer</td>\n",
       "      <td>...</td>\n",
       "      <td>NaN</td>\n",
       "      <td>18700</td>\n",
       "      <td>NaN</td>\n",
       "      <td>EN</td>\n",
       "      <td>0.0</td>\n",
       "      <td>1.0</td>\n",
       "      <td>High School</td>\n",
       "      <td>98</td>\n",
       "      <td>19</td>\n",
       "      <td>0</td>\n",
       "    </tr>\n",
       "    <tr>\n",
       "      <th>1</th>\n",
       "      <td>2016-11-01</td>\n",
       "      <td>company00262</td>\n",
       "      <td>job0000278</td>\n",
       "      <td>DE</td>\n",
       "      <td>SN</td>\n",
       "      <td>Crimmitschau</td>\n",
       "      <td>0.0</td>\n",
       "      <td>NaN</td>\n",
       "      <td>NaN</td>\n",
       "      <td>einrichter</td>\n",
       "      <td>...</td>\n",
       "      <td>NaN</td>\n",
       "      <td>26700</td>\n",
       "      <td>NaN</td>\n",
       "      <td>DE</td>\n",
       "      <td>NaN</td>\n",
       "      <td>NaN</td>\n",
       "      <td>NaN</td>\n",
       "      <td>97</td>\n",
       "      <td>20</td>\n",
       "      <td>0</td>\n",
       "    </tr>\n",
       "    <tr>\n",
       "      <th>2</th>\n",
       "      <td>2016-11-02</td>\n",
       "      <td>company00262</td>\n",
       "      <td>job0000278</td>\n",
       "      <td>DE</td>\n",
       "      <td>SN</td>\n",
       "      <td>Crimmitschau</td>\n",
       "      <td>0.0</td>\n",
       "      <td>NaN</td>\n",
       "      <td>NaN</td>\n",
       "      <td>einrichter</td>\n",
       "      <td>...</td>\n",
       "      <td>NaN</td>\n",
       "      <td>26700</td>\n",
       "      <td>NaN</td>\n",
       "      <td>DE</td>\n",
       "      <td>NaN</td>\n",
       "      <td>NaN</td>\n",
       "      <td>NaN</td>\n",
       "      <td>98</td>\n",
       "      <td>23</td>\n",
       "      <td>2</td>\n",
       "    </tr>\n",
       "    <tr>\n",
       "      <th>3</th>\n",
       "      <td>2016-11-03</td>\n",
       "      <td>company00262</td>\n",
       "      <td>job0000278</td>\n",
       "      <td>DE</td>\n",
       "      <td>SN</td>\n",
       "      <td>Crimmitschau</td>\n",
       "      <td>0.0</td>\n",
       "      <td>NaN</td>\n",
       "      <td>NaN</td>\n",
       "      <td>einrichter</td>\n",
       "      <td>...</td>\n",
       "      <td>NaN</td>\n",
       "      <td>26700</td>\n",
       "      <td>NaN</td>\n",
       "      <td>DE</td>\n",
       "      <td>NaN</td>\n",
       "      <td>NaN</td>\n",
       "      <td>NaN</td>\n",
       "      <td>99</td>\n",
       "      <td>25</td>\n",
       "      <td>1</td>\n",
       "    </tr>\n",
       "    <tr>\n",
       "      <th>4</th>\n",
       "      <td>2016-11-01</td>\n",
       "      <td>company00326</td>\n",
       "      <td>job0000344</td>\n",
       "      <td>US</td>\n",
       "      <td>VA</td>\n",
       "      <td>Vienna</td>\n",
       "      <td>0.0</td>\n",
       "      <td>NaN</td>\n",
       "      <td>NaN</td>\n",
       "      <td>deputy manager</td>\n",
       "      <td>...</td>\n",
       "      <td>7.0</td>\n",
       "      <td>73500</td>\n",
       "      <td>NaN</td>\n",
       "      <td>EN</td>\n",
       "      <td>1.0</td>\n",
       "      <td>0.0</td>\n",
       "      <td>Higher Education</td>\n",
       "      <td>97</td>\n",
       "      <td>27</td>\n",
       "      <td>2</td>\n",
       "    </tr>\n",
       "  </tbody>\n",
       "</table>\n",
       "<p>5 rows × 23 columns</p>\n",
       "</div>"
      ],
      "text/plain": [
       "         date     companyId       jobId country stateProvince          city  \\\n",
       "0  2016-11-01  company00194  job0000208      US            TX        Odessa   \n",
       "1  2016-11-01  company00262  job0000278      DE            SN  Crimmitschau   \n",
       "2  2016-11-02  company00262  job0000278      DE            SN  Crimmitschau   \n",
       "3  2016-11-03  company00262  job0000278      DE            SN  Crimmitschau   \n",
       "4  2016-11-01  company00326  job0000344      US            VA        Vienna   \n",
       "\n",
       "   avgOverallRating  numReviews industry         normTitle     ...      \\\n",
       "0               0.0         NaN      NaN  security officer     ...       \n",
       "1               0.0         NaN      NaN        einrichter     ...       \n",
       "2               0.0         NaN      NaN        einrichter     ...       \n",
       "3               0.0         NaN      NaN        einrichter     ...       \n",
       "4               0.0         NaN      NaN    deputy manager     ...       \n",
       "\n",
       "  experienceRequired  estimatedSalary  salaryCurrency  jobLanguage  \\\n",
       "0                NaN            18700             NaN           EN   \n",
       "1                NaN            26700             NaN           DE   \n",
       "2                NaN            26700             NaN           DE   \n",
       "3                NaN            26700             NaN           DE   \n",
       "4                7.0            73500             NaN           EN   \n",
       "\n",
       "   supervisingJob licenseRequiredJob educationRequirements  jobAgeDays  \\\n",
       "0             0.0                1.0           High School          98   \n",
       "1             NaN                NaN                   NaN          97   \n",
       "2             NaN                NaN                   NaN          98   \n",
       "3             NaN                NaN                   NaN          99   \n",
       "4             1.0                0.0      Higher Education          97   \n",
       "\n",
       "   clicks localClicks  \n",
       "0      19           0  \n",
       "1      20           0  \n",
       "2      23           2  \n",
       "3      25           1  \n",
       "4      27           2  \n",
       "\n",
       "[5 rows x 23 columns]"
      ]
     },
     "execution_count": 7,
     "metadata": {},
     "output_type": "execute_result"
    }
   ],
   "source": [
    "indeed_data.head()"
   ]
  },
  {
   "cell_type": "code",
   "execution_count": 8,
   "metadata": {},
   "outputs": [
    {
     "data": {
      "text/plain": [
       "138297"
      ]
     },
     "execution_count": 8,
     "metadata": {},
     "output_type": "execute_result"
    }
   ],
   "source": [
    "len(indeed_data)"
   ]
  },
  {
   "cell_type": "code",
   "execution_count": 9,
   "metadata": {},
   "outputs": [
    {
     "data": {
      "text/html": [
       "<div>\n",
       "<style scoped>\n",
       "    .dataframe tbody tr th:only-of-type {\n",
       "        vertical-align: middle;\n",
       "    }\n",
       "\n",
       "    .dataframe tbody tr th {\n",
       "        vertical-align: top;\n",
       "    }\n",
       "\n",
       "    .dataframe thead th {\n",
       "        text-align: right;\n",
       "    }\n",
       "</style>\n",
       "<table border=\"1\" class=\"dataframe\">\n",
       "  <thead>\n",
       "    <tr style=\"text-align: right;\">\n",
       "      <th></th>\n",
       "      <th>avgOverallRating</th>\n",
       "      <th>numReviews</th>\n",
       "      <th>descriptionCharacterLength</th>\n",
       "      <th>descriptionWordCount</th>\n",
       "      <th>experienceRequired</th>\n",
       "      <th>estimatedSalary</th>\n",
       "      <th>supervisingJob</th>\n",
       "      <th>licenseRequiredJob</th>\n",
       "      <th>jobAgeDays</th>\n",
       "      <th>clicks</th>\n",
       "      <th>localClicks</th>\n",
       "    </tr>\n",
       "  </thead>\n",
       "  <tbody>\n",
       "    <tr>\n",
       "      <th>count</th>\n",
       "      <td>138297.000000</td>\n",
       "      <td>60406.000000</td>\n",
       "      <td>138297.000000</td>\n",
       "      <td>138297.000000</td>\n",
       "      <td>50437.000000</td>\n",
       "      <td>138297.000000</td>\n",
       "      <td>116845.000000</td>\n",
       "      <td>116845.000000</td>\n",
       "      <td>138297.000000</td>\n",
       "      <td>138297.000000</td>\n",
       "      <td>138297.000000</td>\n",
       "    </tr>\n",
       "    <tr>\n",
       "      <th>mean</th>\n",
       "      <td>1.717282</td>\n",
       "      <td>272.098186</td>\n",
       "      <td>2396.075808</td>\n",
       "      <td>388.495275</td>\n",
       "      <td>3.368010</td>\n",
       "      <td>43470.596615</td>\n",
       "      <td>0.159194</td>\n",
       "      <td>0.358432</td>\n",
       "      <td>30.348026</td>\n",
       "      <td>22.606224</td>\n",
       "      <td>3.646211</td>\n",
       "    </tr>\n",
       "    <tr>\n",
       "      <th>std</th>\n",
       "      <td>1.888626</td>\n",
       "      <td>1155.468292</td>\n",
       "      <td>1741.108796</td>\n",
       "      <td>251.228217</td>\n",
       "      <td>3.124506</td>\n",
       "      <td>28499.397923</td>\n",
       "      <td>0.365858</td>\n",
       "      <td>0.479542</td>\n",
       "      <td>25.507355</td>\n",
       "      <td>44.276172</td>\n",
       "      <td>9.664703</td>\n",
       "    </tr>\n",
       "    <tr>\n",
       "      <th>min</th>\n",
       "      <td>0.000000</td>\n",
       "      <td>2.000000</td>\n",
       "      <td>27.000000</td>\n",
       "      <td>13.000000</td>\n",
       "      <td>0.000000</td>\n",
       "      <td>0.000000</td>\n",
       "      <td>0.000000</td>\n",
       "      <td>0.000000</td>\n",
       "      <td>0.000000</td>\n",
       "      <td>0.000000</td>\n",
       "      <td>0.000000</td>\n",
       "    </tr>\n",
       "    <tr>\n",
       "      <th>25%</th>\n",
       "      <td>0.000000</td>\n",
       "      <td>39.000000</td>\n",
       "      <td>1176.000000</td>\n",
       "      <td>210.000000</td>\n",
       "      <td>1.700000</td>\n",
       "      <td>23600.000000</td>\n",
       "      <td>0.000000</td>\n",
       "      <td>0.000000</td>\n",
       "      <td>9.000000</td>\n",
       "      <td>10.000000</td>\n",
       "      <td>0.000000</td>\n",
       "    </tr>\n",
       "    <tr>\n",
       "      <th>50%</th>\n",
       "      <td>0.000000</td>\n",
       "      <td>70.000000</td>\n",
       "      <td>1971.000000</td>\n",
       "      <td>330.000000</td>\n",
       "      <td>2.000000</td>\n",
       "      <td>33500.000000</td>\n",
       "      <td>0.000000</td>\n",
       "      <td>0.000000</td>\n",
       "      <td>23.000000</td>\n",
       "      <td>18.000000</td>\n",
       "      <td>1.000000</td>\n",
       "    </tr>\n",
       "    <tr>\n",
       "      <th>75%</th>\n",
       "      <td>3.700000</td>\n",
       "      <td>103.000000</td>\n",
       "      <td>3113.000000</td>\n",
       "      <td>501.000000</td>\n",
       "      <td>5.000000</td>\n",
       "      <td>55500.000000</td>\n",
       "      <td>0.000000</td>\n",
       "      <td>1.000000</td>\n",
       "      <td>47.000000</td>\n",
       "      <td>25.000000</td>\n",
       "      <td>3.000000</td>\n",
       "    </tr>\n",
       "    <tr>\n",
       "      <th>max</th>\n",
       "      <td>5.000000</td>\n",
       "      <td>10565.000000</td>\n",
       "      <td>14976.000000</td>\n",
       "      <td>2228.000000</td>\n",
       "      <td>20.000000</td>\n",
       "      <td>235500.000000</td>\n",
       "      <td>1.000000</td>\n",
       "      <td>1.000000</td>\n",
       "      <td>100.000000</td>\n",
       "      <td>6174.000000</td>\n",
       "      <td>708.000000</td>\n",
       "    </tr>\n",
       "  </tbody>\n",
       "</table>\n",
       "</div>"
      ],
      "text/plain": [
       "       avgOverallRating    numReviews  descriptionCharacterLength  \\\n",
       "count     138297.000000  60406.000000               138297.000000   \n",
       "mean           1.717282    272.098186                 2396.075808   \n",
       "std            1.888626   1155.468292                 1741.108796   \n",
       "min            0.000000      2.000000                   27.000000   \n",
       "25%            0.000000     39.000000                 1176.000000   \n",
       "50%            0.000000     70.000000                 1971.000000   \n",
       "75%            3.700000    103.000000                 3113.000000   \n",
       "max            5.000000  10565.000000                14976.000000   \n",
       "\n",
       "       descriptionWordCount  experienceRequired  estimatedSalary  \\\n",
       "count         138297.000000        50437.000000    138297.000000   \n",
       "mean             388.495275            3.368010     43470.596615   \n",
       "std              251.228217            3.124506     28499.397923   \n",
       "min               13.000000            0.000000         0.000000   \n",
       "25%              210.000000            1.700000     23600.000000   \n",
       "50%              330.000000            2.000000     33500.000000   \n",
       "75%              501.000000            5.000000     55500.000000   \n",
       "max             2228.000000           20.000000    235500.000000   \n",
       "\n",
       "       supervisingJob  licenseRequiredJob     jobAgeDays         clicks  \\\n",
       "count   116845.000000       116845.000000  138297.000000  138297.000000   \n",
       "mean         0.159194            0.358432      30.348026      22.606224   \n",
       "std          0.365858            0.479542      25.507355      44.276172   \n",
       "min          0.000000            0.000000       0.000000       0.000000   \n",
       "25%          0.000000            0.000000       9.000000      10.000000   \n",
       "50%          0.000000            0.000000      23.000000      18.000000   \n",
       "75%          0.000000            1.000000      47.000000      25.000000   \n",
       "max          1.000000            1.000000     100.000000    6174.000000   \n",
       "\n",
       "         localClicks  \n",
       "count  138297.000000  \n",
       "mean        3.646211  \n",
       "std         9.664703  \n",
       "min         0.000000  \n",
       "25%         0.000000  \n",
       "50%         1.000000  \n",
       "75%         3.000000  \n",
       "max       708.000000  "
      ]
     },
     "execution_count": 9,
     "metadata": {},
     "output_type": "execute_result"
    }
   ],
   "source": [
    "indeed_data.describe()"
   ]
  },
  {
   "cell_type": "code",
   "execution_count": 10,
   "metadata": {},
   "outputs": [
    {
     "data": {
      "text/plain": [
       "Index(['date', 'companyId', 'jobId', 'country', 'stateProvince', 'city',\n",
       "       'avgOverallRating', 'numReviews', 'industry', 'normTitle',\n",
       "       'normTitleCategory', 'descriptionCharacterLength',\n",
       "       'descriptionWordCount', 'experienceRequired', 'estimatedSalary',\n",
       "       'salaryCurrency', 'jobLanguage', 'supervisingJob', 'licenseRequiredJob',\n",
       "       'educationRequirements', 'jobAgeDays', 'clicks', 'localClicks'],\n",
       "      dtype='object')"
      ]
     },
     "execution_count": 10,
     "metadata": {},
     "output_type": "execute_result"
    }
   ],
   "source": [
    "indeed_data.columns"
   ]
  },
  {
   "cell_type": "code",
   "execution_count": 12,
   "metadata": {},
   "outputs": [
    {
     "data": {
      "text/plain": [
       "2050"
      ]
     },
     "execution_count": 12,
     "metadata": {},
     "output_type": "execute_result"
    }
   ],
   "source": [
    "len(indeed_data.city.unique())"
   ]
  },
  {
   "cell_type": "code",
   "execution_count": 13,
   "metadata": {},
   "outputs": [
    {
     "data": {
      "text/plain": [
       "78"
      ]
     },
     "execution_count": 13,
     "metadata": {},
     "output_type": "execute_result"
    }
   ],
   "source": [
    "len(indeed_data.stateProvince.unique())"
   ]
  },
  {
   "cell_type": "markdown",
   "metadata": {},
   "source": [
    "We chose to scrape data on the cost of living in various areas of the US."
   ]
  },
  {
   "cell_type": "code",
   "execution_count": 24,
   "metadata": {
    "collapsed": true
   },
   "outputs": [],
   "source": [
    "# Get the request and webscrape the table\n",
    "req = requests.get(\"https://www.numbeo.com/cost-of-living/region_rankings.jsp?title=2017&region=019\")\n",
    "soup = BeautifulSoup(req.text, \"html.parser\")"
   ]
  },
  {
   "cell_type": "code",
   "execution_count": 43,
   "metadata": {
    "collapsed": true
   },
   "outputs": [],
   "source": [
    "col_columns = []\n",
    "\n",
    "col_table = soup.find_all(\"table\", {\"id\":\"t2\"})[0]\n",
    "col_header = col_table.find(\"thead\")\n",
    "col_body = col_table.find(\"tbody\")"
   ]
  },
  {
   "cell_type": "code",
   "execution_count": 68,
   "metadata": {
    "collapsed": true
   },
   "outputs": [],
   "source": [
    "for th in col_header.find_all(\"th\"):\n",
    "    col_columns.append(th.text)"
   ]
  },
  {
   "cell_type": "code",
   "execution_count": 53,
   "metadata": {
    "collapsed": true
   },
   "outputs": [],
   "source": [
    "def isfloat(value):\n",
    "    try:\n",
    "        float(value)\n",
    "        return True\n",
    "    except ValueError:\n",
    "        return False"
   ]
  },
  {
   "cell_type": "code",
   "execution_count": 64,
   "metadata": {
    "collapsed": true
   },
   "outputs": [],
   "source": [
    "first = True\n",
    "rows = []\n",
    "rank = 1\n",
    "for tr in col_body.find_all(\"tr\"):\n",
    "    rows.append([rank] + tr.text.split(\"\\n\")[2:-1])\n",
    "    rank += 1\n"
   ]
  },
  {
   "cell_type": "code",
   "execution_count": 71,
   "metadata": {
    "collapsed": true
   },
   "outputs": [],
   "source": [
    "col_city = pd.DataFrame(data = rows, columns=col_columns)"
   ]
  },
  {
   "cell_type": "markdown",
   "metadata": {},
   "source": [
    "After scraping data on a couple of areas, we instead chose to scrape data on an index of the cost of living in each state of the US based on 2018 data. "
   ]
  },
  {
   "cell_type": "code",
   "execution_count": 72,
   "metadata": {
    "collapsed": true
   },
   "outputs": [],
   "source": [
    "# Get the request and webscrape the table\n",
    "req = requests.get(\"https://www.missourieconomy.org/indicators/cost_of_living/\")\n",
    "soup = BeautifulSoup(req.text, \"html.parser\")"
   ]
  },
  {
   "cell_type": "code",
   "execution_count": 100,
   "metadata": {
    "collapsed": true
   },
   "outputs": [],
   "source": [
    "col_table = soup.find(\"table\", {\"class\": \"excel28\"})"
   ]
  },
  {
   "cell_type": "code",
   "execution_count": 109,
   "metadata": {
    "collapsed": true
   },
   "outputs": [],
   "source": [
    "columns = []\n",
    "rows = []\n",
    "count = 0\n",
    "\n",
    "for tr in col_table.find_all(\"tr\"):\n",
    "    if count >= 2:\n",
    "        rows.append(tr.text.split(\"\\n\")[1:-1])\n",
    "    elif count == 1:\n",
    "        columns.append(tr.text.split(\"\\n\"))\n",
    "    count += 1"
   ]
  },
  {
   "cell_type": "code",
   "execution_count": 110,
   "metadata": {
    "collapsed": true
   },
   "outputs": [],
   "source": [
    "columns = columns[0][1:-1]"
   ]
  },
  {
   "cell_type": "code",
   "execution_count": 111,
   "metadata": {
    "collapsed": true
   },
   "outputs": [],
   "source": [
    "columns = [val.strip(\"\\xa0\") for val in columns]"
   ]
  },
  {
   "cell_type": "code",
   "execution_count": 114,
   "metadata": {
    "collapsed": true
   },
   "outputs": [],
   "source": [
    "col_by_state = pd.DataFrame(data = rows, columns = columns)"
   ]
  },
  {
   "cell_type": "code",
   "execution_count": 118,
   "metadata": {
    "collapsed": true
   },
   "outputs": [],
   "source": [
    "col_by_state[col_by_state.columns[1:]] = col_by_state[col_by_state.columns[1:]]\\\n",
    ".apply(pd.to_numeric, errors = 'coerce')"
   ]
  },
  {
   "cell_type": "code",
   "execution_count": null,
   "metadata": {
    "collapsed": true
   },
   "outputs": [],
   "source": []
  }
 ],
 "metadata": {
  "kernelspec": {
   "display_name": "Python 3",
   "language": "python",
   "name": "python3"
  },
  "language_info": {
   "codemirror_mode": {
    "name": "ipython",
    "version": 3
   },
   "file_extension": ".py",
   "mimetype": "text/x-python",
   "name": "python",
   "nbconvert_exporter": "python",
   "pygments_lexer": "ipython3",
   "version": "3.7.1"
  }
 },
 "nbformat": 4,
 "nbformat_minor": 2
}
